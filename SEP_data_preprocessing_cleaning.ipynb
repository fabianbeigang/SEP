{
 "cells": [
  {
   "cell_type": "markdown",
   "metadata": {},
   "source": [
    "# Stanford Encyclopedia of Philosophy - Diversity Analysis\n",
    "## Data Extraction, Preprocessing and Cleaning"
   ]
  },
  {
   "cell_type": "markdown",
   "metadata": {},
   "source": [
    "We begin by loading the libraries required for this analysis, as well as the function we defined in an external python file."
   ]
  },
  {
   "cell_type": "code",
   "execution_count": 1,
   "metadata": {},
   "outputs": [],
   "source": [
    "import math\n",
    "\n",
    "import pandas as pd\n",
    "import requests\n",
    "import unidecode\n",
    "from bs4 import BeautifulSoup\n",
    "\n",
    "from sep_functions import extract_year, extract_authors, extract_title, get_bib_elements"
   ]
  },
  {
   "cell_type": "markdown",
   "metadata": {},
   "source": [
    "### 1. Scraping the *Stanford Encyclopedia of Philosophy* "
   ]
  },
  {
   "cell_type": "markdown",
   "metadata": {},
   "source": [
    "We begin by scraping all the URLs to articles on the Stanford Encyclopedia of Philosophy from its \"contents\" page."
   ]
  },
  {
   "cell_type": "code",
   "execution_count": 2,
   "metadata": {},
   "outputs": [
    {
     "name": "stdout",
     "output_type": "stream",
     "text": [
      "1740\n"
     ]
    }
   ],
   "source": [
    "# Url with overview of all the entries\n",
    "url = \"https://plato.stanford.edu/contents.html\"\n",
    "\n",
    "# Load html content, get page text, parse HTML\n",
    "r = requests.get(url)\n",
    "page = r.text\n",
    "soup = BeautifulSoup(page, 'html.parser')\n",
    "\n",
    "# Find <a href> elements which begin with \"plato.stanford.edu/entries\"\n",
    "links = soup.findAll('a')\n",
    "entries = []\n",
    "for link in links:\n",
    "    try:\n",
    "        link_text = link.get(\"href\")\n",
    "        # If the link text is an entry, and it hasn't been added to the list before\n",
    "        if \"entries/\" in link_text  and link_text not in entries:\n",
    "            entries.append(link_text) \n",
    "    except:\n",
    "        pass\n",
    "    \n",
    "print(len(entries))    "
   ]
  },
  {
   "cell_type": "code",
   "execution_count": 4,
   "metadata": {},
   "outputs": [
    {
     "name": "stdout",
     "output_type": "stream",
     "text": [
      "Extracting from entry #1: entries/abduction/\n",
      "Appending 111 references\n",
      "Extracting from entry #2: entries/abelard/\n",
      "Appending 89 references\n",
      "Extracting from entry #3: entries/abhidharma/\n",
      "Appending 67 references\n",
      "Extracting from entry #4: entries/abilities/\n",
      "Appending 77 references\n",
      "Extracting from entry #5: entries/abner-burgos/\n",
      "Appending 43 references\n"
     ]
    }
   ],
   "source": [
    "# Initialize list of bib elements\n",
    "bib_elements = []\n",
    "\n",
    "# Initialize a count for the entries\n",
    "num_entry = 1\n",
    "\n",
    "# Iterate through the entries and extract all bib elements\n",
    "for entry in entries:\n",
    "    print(f\"Extracting from entry #{num_entry}: {entry}\")\n",
    "    num_entry +=1\n",
    "    url = f\"https://plato.stanford.edu/{entry}\"\n",
    "    li_elements = get_bib_elements(url)\n",
    "    print(f\"Appending {len(li_elements)} references\")\n",
    "    for li_element in li_elements:\n",
    "        bib_elements.append(li_element)"
   ]
  },
  {
   "cell_type": "code",
   "execution_count": null,
   "metadata": {},
   "outputs": [],
   "source": [
    "# Save the raw reference data to txt file\n",
    "textfile = open(\"data/bib_items_complete.txt\", \"w\")\n",
    "for element in bib_elements:\n",
    "    textfile.write(str(element) + \"\\n\")\n",
    "textfile.close()"
   ]
  },
  {
   "cell_type": "markdown",
   "metadata": {},
   "source": [
    "### 2. Turning the raw text into structured data"
   ]
  },
  {
   "cell_type": "code",
   "execution_count": 5,
   "metadata": {},
   "outputs": [],
   "source": [
    "# Load the data with the raw references\n",
    "filepath = \"data/bib_items_complete.txt\"\n",
    "\n",
    "# Import references from raw text file\n",
    "file = open(filepath, \"r\")\n",
    "content = file.read()\n",
    "\n",
    "# Split the content where a li element ends and a new line starts\n",
    "references = content.split(\"</li>\\n\")\n",
    "file.close()"
   ]
  },
  {
   "cell_type": "code",
   "execution_count": 4,
   "metadata": {},
   "outputs": [
    {
     "name": "stdout",
     "output_type": "stream",
     "text": [
      "2001, The Book of Evidence, ['P. Achinstein']\n",
      "1994, Testimony, Trust, Knowing, ['J. Adler']\n",
      "1979, Linguistic Communication and Speech Acts, ['K. Bach', ' R.  Harnish']\n",
      "1998, Philosophy of Science, ['A. Bird']\n",
      "2010, Quine, Mereology, and Inference to the Best Explanation, ['J. Bigelow']\n"
     ]
    }
   ],
   "source": [
    "# Initialize lists to store publication years, author lists, and titles in, as well as different counts\n",
    "years, authors, titles = [], [], []\n",
    "yearless = 0\n",
    "count = 0\n",
    "fail_count = 0\n",
    "\n",
    "# Iterate through references\n",
    "for reference in references:\n",
    "    \n",
    "    try:\n",
    "        # Get publication year\n",
    "        year = extract_year(reference)\n",
    "        # Skip if there's no year\n",
    "        if not year:\n",
    "            print(f\"This is number {count}:\")\n",
    "            print(\"Yearless\")\n",
    "            print(reference)\n",
    "            yearless+=1\n",
    "            continue\n",
    "        \n",
    "        # Get publication name\n",
    "        title  = extract_title(reference)\n",
    "         \n",
    "        # Get author names\n",
    "        # If the author name is ––– (indicating its the same as in the previous ref)\n",
    "        # grab the author from before (last item in authors list)\n",
    "        if \"–––\" in reference:\n",
    "            names = authors[-1]\n",
    "        else:\n",
    "            names = extract_authors(reference, year)\n",
    "        \n",
    "        # Append all\n",
    "        years.append(year)\n",
    "        titles.append(title)\n",
    "        authors.append(names)\n",
    "        \n",
    "        count+=1\n",
    "        print(f\"{year}, {title}, {names}\")\n",
    "        \n",
    "    except:\n",
    "        print(f\"This is number {count}:\")\n",
    "        print(\"General Failure\")\n",
    "        print(reference)\n",
    "        fail_count+=1\n",
    "        \n",
    "# Make sure the list of authors and the list of years is equally long\n",
    "assert len(authors)==len(years) and len(titles)==len(years)"
   ]
  },
  {
   "cell_type": "code",
   "execution_count": null,
   "metadata": {},
   "outputs": [],
   "source": [
    "# Turn into pandas dataframe\n",
    "df = pd.DataFrame({'Authors' : authors,\n",
    "                   'Year' : years,\n",
    "                   'Title' : titles }, \n",
    "                  columns=['Authors','Year', 'Title'])\n",
    "\n",
    "# Write to csv\n",
    "df.to_csv(\"data/sep_reference_data.csv\")"
   ]
  },
  {
   "cell_type": "markdown",
   "metadata": {},
   "source": [
    "### 3. Preprocessing the data"
   ]
  },
  {
   "cell_type": "code",
   "execution_count": 54,
   "metadata": {},
   "outputs": [
    {
     "name": "stdout",
     "output_type": "stream",
     "text": [
      "Data set with 180403 rows.\n"
     ]
    },
    {
     "data": {
      "text/html": [
       "<div>\n",
       "<style scoped>\n",
       "    .dataframe tbody tr th:only-of-type {\n",
       "        vertical-align: middle;\n",
       "    }\n",
       "\n",
       "    .dataframe tbody tr th {\n",
       "        vertical-align: top;\n",
       "    }\n",
       "\n",
       "    .dataframe thead th {\n",
       "        text-align: right;\n",
       "    }\n",
       "</style>\n",
       "<table border=\"1\" class=\"dataframe\">\n",
       "  <thead>\n",
       "    <tr style=\"text-align: right;\">\n",
       "      <th></th>\n",
       "      <th>Authors</th>\n",
       "      <th>Year</th>\n",
       "      <th>Title</th>\n",
       "    </tr>\n",
       "  </thead>\n",
       "  <tbody>\n",
       "    <tr>\n",
       "      <th>0</th>\n",
       "      <td>P. Achinstein</td>\n",
       "      <td>2001</td>\n",
       "      <td>The Book of Evidence</td>\n",
       "    </tr>\n",
       "    <tr>\n",
       "      <th>1</th>\n",
       "      <td>J. Adler</td>\n",
       "      <td>1994</td>\n",
       "      <td>Testimony, Trust, Knowing</td>\n",
       "    </tr>\n",
       "    <tr>\n",
       "      <th>2</th>\n",
       "      <td>K. Bach,  R.  Harnish</td>\n",
       "      <td>1979</td>\n",
       "      <td>Linguistic Communication and Speech Acts</td>\n",
       "    </tr>\n",
       "    <tr>\n",
       "      <th>3</th>\n",
       "      <td>A. Bird</td>\n",
       "      <td>1998</td>\n",
       "      <td>Philosophy of Science</td>\n",
       "    </tr>\n",
       "    <tr>\n",
       "      <th>4</th>\n",
       "      <td>J. Bigelow</td>\n",
       "      <td>2010</td>\n",
       "      <td>Quine, Mereology, and Inference to the Best Ex...</td>\n",
       "    </tr>\n",
       "  </tbody>\n",
       "</table>\n",
       "</div>"
      ],
      "text/plain": [
       "                 Authors  Year  \\\n",
       "0          P. Achinstein  2001   \n",
       "1               J. Adler  1994   \n",
       "2  K. Bach,  R.  Harnish  1979   \n",
       "3                A. Bird  1998   \n",
       "4             J. Bigelow  2010   \n",
       "\n",
       "                                               Title  \n",
       "0                               The Book of Evidence  \n",
       "1                          Testimony, Trust, Knowing  \n",
       "2           Linguistic Communication and Speech Acts  \n",
       "3                              Philosophy of Science  \n",
       "4  Quine, Mereology, and Inference to the Best Ex...  "
      ]
     },
     "execution_count": 54,
     "metadata": {},
     "output_type": "execute_result"
    }
   ],
   "source": [
    "# Load data\n",
    "df = pd.read_csv(\"data/sep_reference_data.csv\")[[\"Authors\", \"Year\", \"Title\"]]\n",
    "\n",
    "# Save initial number of columns\n",
    "initial_len = len(df)\n",
    "\n",
    "# Reformat Authors column\n",
    "df[\"Authors\"] = df[\"Authors\"].apply(lambda x: x[2:-2].replace(\"'\",\"\"))\n",
    "print(f\"Data set with {initial_len} rows.\")\n",
    "df.head()"
   ]
  },
  {
   "cell_type": "markdown",
   "metadata": {},
   "source": [
    "We begin by checking how many entries are invalid, i.e. don't have a title, year, or author names. Those rows we will drop."
   ]
  },
  {
   "cell_type": "code",
   "execution_count": 55,
   "metadata": {},
   "outputs": [
    {
     "name": "stdout",
     "output_type": "stream",
     "text": [
      "Number of dropped rows: 8971. This is ~5.0% of the original data set.\n"
     ]
    }
   ],
   "source": [
    "# Drop rows without author name\n",
    "df = df[df[\"Authors\"]!=\"(No names)\"]\n",
    "\n",
    "# Drop rows without title\n",
    "df[df[\"Title\"]==\"(Couldn't determine title)\"]\n",
    "print(f\"Number of dropped rows: {initial_len-len(df)}. This is ~{round((initial_len-len(df))/initial_len,3)*100}% of the original data set.\")\n"
   ]
  },
  {
   "cell_type": "code",
   "execution_count": 56,
   "metadata": {},
   "outputs": [
    {
     "data": {
      "text/html": [
       "<div>\n",
       "<style scoped>\n",
       "    .dataframe tbody tr th:only-of-type {\n",
       "        vertical-align: middle;\n",
       "    }\n",
       "\n",
       "    .dataframe tbody tr th {\n",
       "        vertical-align: top;\n",
       "    }\n",
       "\n",
       "    .dataframe thead th {\n",
       "        text-align: right;\n",
       "    }\n",
       "</style>\n",
       "<table border=\"1\" class=\"dataframe\">\n",
       "  <thead>\n",
       "    <tr style=\"text-align: right;\">\n",
       "      <th></th>\n",
       "      <th>Authors</th>\n",
       "      <th>Year</th>\n",
       "      <th>Title</th>\n",
       "      <th>First author</th>\n",
       "    </tr>\n",
       "  </thead>\n",
       "  <tbody>\n",
       "    <tr>\n",
       "      <th>0</th>\n",
       "      <td>P. Achinstein</td>\n",
       "      <td>2001</td>\n",
       "      <td>The Book of Evidence</td>\n",
       "      <td>P. Achinstein</td>\n",
       "    </tr>\n",
       "    <tr>\n",
       "      <th>1</th>\n",
       "      <td>J. Adler</td>\n",
       "      <td>1994</td>\n",
       "      <td>Testimony, Trust, Knowing</td>\n",
       "      <td>J. Adler</td>\n",
       "    </tr>\n",
       "    <tr>\n",
       "      <th>2</th>\n",
       "      <td>K. Bach,  R.  Harnish</td>\n",
       "      <td>1979</td>\n",
       "      <td>Linguistic Communication and Speech Acts</td>\n",
       "      <td>K. Bach</td>\n",
       "    </tr>\n",
       "    <tr>\n",
       "      <th>3</th>\n",
       "      <td>A. Bird</td>\n",
       "      <td>1998</td>\n",
       "      <td>Philosophy of Science</td>\n",
       "      <td>A. Bird</td>\n",
       "    </tr>\n",
       "    <tr>\n",
       "      <th>4</th>\n",
       "      <td>J. Bigelow</td>\n",
       "      <td>2010</td>\n",
       "      <td>Quine, Mereology, and Inference to the Best Ex...</td>\n",
       "      <td>J. Bigelow</td>\n",
       "    </tr>\n",
       "  </tbody>\n",
       "</table>\n",
       "</div>"
      ],
      "text/plain": [
       "                 Authors  Year  \\\n",
       "0          P. Achinstein  2001   \n",
       "1               J. Adler  1994   \n",
       "2  K. Bach,  R.  Harnish  1979   \n",
       "3                A. Bird  1998   \n",
       "4             J. Bigelow  2010   \n",
       "\n",
       "                                               Title   First author  \n",
       "0                               The Book of Evidence  P. Achinstein  \n",
       "1                          Testimony, Trust, Knowing       J. Adler  \n",
       "2           Linguistic Communication and Speech Acts        K. Bach  \n",
       "3                              Philosophy of Science        A. Bird  \n",
       "4  Quine, Mereology, and Inference to the Best Ex...     J. Bigelow  "
      ]
     },
     "execution_count": 56,
     "metadata": {},
     "output_type": "execute_result"
    }
   ],
   "source": [
    "# Get first author\n",
    "df[\"First author\"] = df[\"Authors\"].apply(lambda x: x.split(\",\")[0])\n",
    "df.head()"
   ]
  },
  {
   "cell_type": "markdown",
   "metadata": {},
   "source": [
    "We're now checking whether there are columns where the First author name is suspiciously long (over 35 characters) to analyze those. It will presumably be reasonable to drop them, as they will most likely indicate that something went wrong. (Note: as I do this in preprocessing, I can probably delete this)"
   ]
  },
  {
   "cell_type": "code",
   "execution_count": 57,
   "metadata": {},
   "outputs": [
    {
     "name": "stdout",
     "output_type": "stream",
     "text": [
      "There are 6 overly long first author entries.\n"
     ]
    }
   ],
   "source": [
    "# Mark all where first author name is longer than 35 characters\n",
    "df[\"Overlong\"] = df[\"First author\"].apply(lambda x: len(x)>35)\n",
    "\n",
    "# How many are we dealing with?\n",
    "print(f\"There are {len(df[df['Overlong']])} overly long first author entries.\")\n",
    "\n",
    "# Print the top ones\n",
    "df[df[\"Overlong\"]].head()\n",
    "\n",
    "# Drop them\n",
    "df = df[df[\"Overlong\"]==False][[\"Authors\",\"Year\",\"Title\",\"First author\"]]"
   ]
  },
  {
   "cell_type": "markdown",
   "metadata": {},
   "source": [
    "As we want to focus only on publications after 1900, we drop all data points with earlier publication year."
   ]
  },
  {
   "cell_type": "code",
   "execution_count": 58,
   "metadata": {},
   "outputs": [
    {
     "data": {
      "text/html": [
       "<div>\n",
       "<style scoped>\n",
       "    .dataframe tbody tr th:only-of-type {\n",
       "        vertical-align: middle;\n",
       "    }\n",
       "\n",
       "    .dataframe tbody tr th {\n",
       "        vertical-align: top;\n",
       "    }\n",
       "\n",
       "    .dataframe thead th {\n",
       "        text-align: right;\n",
       "    }\n",
       "</style>\n",
       "<table border=\"1\" class=\"dataframe\">\n",
       "  <thead>\n",
       "    <tr style=\"text-align: right;\">\n",
       "      <th></th>\n",
       "      <th>Authors</th>\n",
       "      <th>Year</th>\n",
       "      <th>Title</th>\n",
       "      <th>First author</th>\n",
       "    </tr>\n",
       "  </thead>\n",
       "  <tbody>\n",
       "    <tr>\n",
       "      <th>261</th>\n",
       "      <td>David Hume</td>\n",
       "      <td>1748</td>\n",
       "      <td>An Enquiry Concerning Human Understanding</td>\n",
       "      <td>David Hume</td>\n",
       "    </tr>\n",
       "    <tr>\n",
       "      <th>288</th>\n",
       "      <td>Thomas Reid</td>\n",
       "      <td>1788</td>\n",
       "      <td>Essays on the Active Powers of Man</td>\n",
       "      <td>Thomas Reid</td>\n",
       "    </tr>\n",
       "    <tr>\n",
       "      <th>394</th>\n",
       "      <td>Bernhard Zimmels</td>\n",
       "      <td>1886</td>\n",
       "      <td>Leo Hebraeus: Ein Judischer Philosoph der Rena...</td>\n",
       "      <td>Bernhard Zimmels</td>\n",
       "    </tr>\n",
       "    <tr>\n",
       "      <th>395</th>\n",
       "      <td>Bernhard Zimmels</td>\n",
       "      <td>1892</td>\n",
       "      <td>Leone Hebreo, Neue Studien</td>\n",
       "      <td>Bernhard Zimmels</td>\n",
       "    </tr>\n",
       "    <tr>\n",
       "      <th>416</th>\n",
       "      <td>Bernard Bolzano</td>\n",
       "      <td>1837</td>\n",
       "      <td>Wissenschaftslehre</td>\n",
       "      <td>Bernard Bolzano</td>\n",
       "    </tr>\n",
       "  </tbody>\n",
       "</table>\n",
       "</div>"
      ],
      "text/plain": [
       "              Authors  Year  \\\n",
       "261        David Hume  1748   \n",
       "288       Thomas Reid  1788   \n",
       "394  Bernhard Zimmels  1886   \n",
       "395  Bernhard Zimmels  1892   \n",
       "416   Bernard Bolzano  1837   \n",
       "\n",
       "                                                 Title      First author  \n",
       "261          An Enquiry Concerning Human Understanding        David Hume  \n",
       "288                 Essays on the Active Powers of Man       Thomas Reid  \n",
       "394  Leo Hebraeus: Ein Judischer Philosoph der Rena...  Bernhard Zimmels  \n",
       "395                         Leone Hebreo, Neue Studien  Bernhard Zimmels  \n",
       "416                                 Wissenschaftslehre   Bernard Bolzano  "
      ]
     },
     "execution_count": 58,
     "metadata": {},
     "output_type": "execute_result"
    }
   ],
   "source": [
    "df[df[\"Year\"]<\"1900\"].head()"
   ]
  },
  {
   "cell_type": "code",
   "execution_count": 59,
   "metadata": {},
   "outputs": [
    {
     "data": {
      "text/plain": [
       "166437"
      ]
     },
     "execution_count": 59,
     "metadata": {},
     "output_type": "execute_result"
    }
   ],
   "source": [
    "df = df[df[\"Year\"]>=\"1900\"]\n",
    "len(df)"
   ]
  },
  {
   "cell_type": "markdown",
   "metadata": {},
   "source": [
    "This should be a reasonable pre-processed and filtered data set. It contains 166 437 entries. We will now move to the feature engineering part."
   ]
  },
  {
   "cell_type": "markdown",
   "metadata": {},
   "source": [
    "### 4. Obtain full author names\n",
    "\n",
    "The idea here is to get a df with two columns, one with the name as they are found in the original df, and one with the full name."
   ]
  },
  {
   "cell_type": "code",
   "execution_count": 60,
   "metadata": {},
   "outputs": [
    {
     "name": "stdout",
     "output_type": "stream",
     "text": [
      "There are 55970 unique 'Authors' entries\n"
     ]
    }
   ],
   "source": [
    "# Number of different first authors (55.9k)\n",
    "print(f\"There are {len(df['First author'].unique())} unique 'Authors' entries\")"
   ]
  },
  {
   "cell_type": "markdown",
   "metadata": {},
   "source": [
    "#### 4.1 Match different versions of names"
   ]
  },
  {
   "cell_type": "markdown",
   "metadata": {},
   "source": [
    "A quick look at the author names reveals that there are often different versions of the same name in the data set (e.g. \"Richard Boyd\", \"Richard N. Boyd\"). The first step will be to remove middle names."
   ]
  },
  {
   "cell_type": "code",
   "execution_count": 61,
   "metadata": {},
   "outputs": [
    {
     "data": {
      "text/plain": [
       "49775"
      ]
     },
     "execution_count": 61,
     "metadata": {},
     "output_type": "execute_result"
    }
   ],
   "source": [
    "# Split authors into list divided by whitespaces, then only retain first and last\n",
    "df[\"First author\"] = df[\"First author\"].apply(lambda x: x.split(\" \")[0]+\" \"+x.split(\" \")[-1])\n",
    "# Check how many unique names we have now\n",
    "len(df[\"First author\"].unique())"
   ]
  },
  {
   "cell_type": "markdown",
   "metadata": {},
   "source": [
    "Next we're removing punctuation to unify abbreviated names (e.g. \"L Bovens\", \"L. Bovens\"). Moreover, we're replacing letters with accent (e.g. \"A. Hajék\")."
   ]
  },
  {
   "cell_type": "code",
   "execution_count": 62,
   "metadata": {},
   "outputs": [
    {
     "data": {
      "text/plain": [
       "49035"
      ]
     },
     "execution_count": 62,
     "metadata": {},
     "output_type": "execute_result"
    }
   ],
   "source": [
    "df[\"First author\"] = df[\"First author\"].apply(lambda x: x.replace(\".\",\"\"))\n",
    "# Check how many unique names we have now\n",
    "len(df[\"First author\"].unique())"
   ]
  },
  {
   "cell_type": "code",
   "execution_count": 63,
   "metadata": {},
   "outputs": [
    {
     "data": {
      "text/plain": [
       "48775"
      ]
     },
     "execution_count": 63,
     "metadata": {},
     "output_type": "execute_result"
    }
   ],
   "source": [
    "# Replace each name by its closest ASCII representation\n",
    "df[\"First author\"] = df[\"First author\"].apply(lambda x: unidecode.unidecode(x))\n",
    "# Check how many unique names we have now\n",
    "len(df[\"First author\"].unique())"
   ]
  },
  {
   "cell_type": "markdown",
   "metadata": {},
   "source": [
    "#### 4.2 Find the full name in list and match"
   ]
  },
  {
   "cell_type": "code",
   "execution_count": 64,
   "metadata": {},
   "outputs": [
    {
     "name": "stdout",
     "output_type": "stream",
     "text": [
      "Full names: 26230, Abbreviated names: 22545\n"
     ]
    }
   ],
   "source": [
    "# Split into two lists, one where the full name is complete \n",
    "# and one where its only initials, then try to match to each other\n",
    "\n",
    "# Initialize empty lists for full names and for initials\n",
    "full_names = []\n",
    "abr_names = []\n",
    "\n",
    "# Sort into full and abbreviated names by checking whether what is before the first whitespace is only uppercase letters\n",
    "for name in df['First author'].unique():\n",
    "    if name.split(\" \")[0].isupper():\n",
    "        abr_names.append(name)\n",
    "    else:\n",
    "        full_names.append(name)\n",
    "        \n",
    "print(f\"Full names: {len(full_names)}, Abbreviated names: {len(abr_names)}\")    "
   ]
  },
  {
   "cell_type": "markdown",
   "metadata": {},
   "source": [
    "We now try to match abbreviated names to full names. We only do so if there is a unique match for the abbreviated name (e.g. \"N Cartwright\", \"Nancy Cartwright\")."
   ]
  },
  {
   "cell_type": "code",
   "execution_count": 65,
   "metadata": {},
   "outputs": [
    {
     "name": "stdout",
     "output_type": "stream",
     "text": [
      "We found matches for a total of 10893 abbreviated names, of which 9035 are unique.\n"
     ]
    }
   ],
   "source": [
    "# Initialize a list to store matches in\n",
    "matches = []\n",
    "\n",
    "# Iterate through abbreviated names\n",
    "for name in abr_names:\n",
    "    # extract first letter of first name and last name\n",
    "    initial = name[0]\n",
    "    last_name = name.split(\" \")[-1]\n",
    "    # Boolean flag to indicate whether there is a unique match\n",
    "    matches_temp = []\n",
    "    # Iterate through full name list\n",
    "    for full_name in full_names:\n",
    "        initial_f = full_name[0]\n",
    "        last_name_f = full_name.split(\" \")[-1]\n",
    "        # Match if it's the same initial, same last name (+ add that first name has to have at least two letters without )\n",
    "        if initial==initial_f and last_name==last_name_f:\n",
    "            #print(f\"Abbreviated: {name}, Full: {full_name}\")\n",
    "            matches_temp.append(full_name)\n",
    "    # If there are any specific matches, append to match list\n",
    "    if matches_temp:\n",
    "        matches.append([name, matches_temp])\n",
    "\n",
    "# Find unique matches among all matches\n",
    "unique_matches = [match for match in matches if len(match[1])==1]\n",
    "\n",
    "print(f\"We found matches for a total of {len(matches)} abbreviated names, of which {len(unique_matches)} are unique.\")\n",
    "        \n",
    "    "
   ]
  },
  {
   "cell_type": "markdown",
   "metadata": {},
   "source": [
    "Next, we want to replace all the abbreviated names in our data set that have unique matching full names."
   ]
  },
  {
   "cell_type": "code",
   "execution_count": 66,
   "metadata": {},
   "outputs": [],
   "source": [
    "# Define a function which takes as input an abbreviated name and returns a full name if a unique match is available\n",
    "# and the initial name otherwise\n",
    "def get_full_name(name):\n",
    "    # Check whether name is an abbreviated name\n",
    "    if name.split(\" \")[0].isupper():\n",
    "        # Check whether there's a unique match\n",
    "        for unique_match in unique_matches:\n",
    "            # If the name matches, return that name\n",
    "            if name==unique_match[0]:\n",
    "                return unique_match[1][0]\n",
    "    return name\n",
    "\n",
    "df[\"First author\"] = df[\"First author\"].apply(lambda x: get_full_name(x))\n",
    "df.head()"
   ]
  },
  {
   "cell_type": "markdown",
   "metadata": {},
   "source": [
    "#### 4.3 Retrieving full first names from an external website"
   ]
  },
  {
   "cell_type": "markdown",
   "metadata": {},
   "source": [
    "This works so far - have to save to CSV in steps of 1000s and start from where the list left off to be able to do this in chunks. (WORK IN PROGRESS)"
   ]
  },
  {
   "cell_type": "code",
   "execution_count": 85,
   "metadata": {},
   "outputs": [
    {
     "name": "stdout",
     "output_type": "stream",
     "text": [
      "There are still 33614 abbreviated names.\n"
     ]
    },
    {
     "data": {
      "text/html": [
       "<div>\n",
       "<style scoped>\n",
       "    .dataframe tbody tr th:only-of-type {\n",
       "        vertical-align: middle;\n",
       "    }\n",
       "\n",
       "    .dataframe tbody tr th {\n",
       "        vertical-align: top;\n",
       "    }\n",
       "\n",
       "    .dataframe thead th {\n",
       "        text-align: right;\n",
       "    }\n",
       "</style>\n",
       "<table border=\"1\" class=\"dataframe\">\n",
       "  <thead>\n",
       "    <tr style=\"text-align: right;\">\n",
       "      <th></th>\n",
       "      <th>Authors</th>\n",
       "      <th>Year</th>\n",
       "      <th>Title</th>\n",
       "      <th>First author</th>\n",
       "      <th>Abr</th>\n",
       "    </tr>\n",
       "  </thead>\n",
       "  <tbody>\n",
       "    <tr>\n",
       "      <th>0</th>\n",
       "      <td>J. Adler</td>\n",
       "      <td>1994</td>\n",
       "      <td>Testimony, Trust, Knowing</td>\n",
       "      <td>J Adler</td>\n",
       "      <td>True</td>\n",
       "    </tr>\n",
       "    <tr>\n",
       "      <th>1</th>\n",
       "      <td>J. Bigelow</td>\n",
       "      <td>2010</td>\n",
       "      <td>Quine, Mereology, and Inference to the Best Ex...</td>\n",
       "      <td>J Bigelow</td>\n",
       "      <td>True</td>\n",
       "    </tr>\n",
       "    <tr>\n",
       "      <th>2</th>\n",
       "      <td>R. Boyd</td>\n",
       "      <td>1981</td>\n",
       "      <td>Scientific Realism and Naturalistic Epistemology</td>\n",
       "      <td>R Boyd</td>\n",
       "      <td>True</td>\n",
       "    </tr>\n",
       "    <tr>\n",
       "      <th>3</th>\n",
       "      <td>R. Boyd</td>\n",
       "      <td>1984</td>\n",
       "      <td>The Current Status of Scientific Realism</td>\n",
       "      <td>R Boyd</td>\n",
       "      <td>True</td>\n",
       "    </tr>\n",
       "    <tr>\n",
       "      <th>4</th>\n",
       "      <td>R. Boyd</td>\n",
       "      <td>1985</td>\n",
       "      <td>Lex Orandi est Lex Credendi</td>\n",
       "      <td>R Boyd</td>\n",
       "      <td>True</td>\n",
       "    </tr>\n",
       "  </tbody>\n",
       "</table>\n",
       "</div>"
      ],
      "text/plain": [
       "      Authors  Year                                              Title  \\\n",
       "0    J. Adler  1994                          Testimony, Trust, Knowing   \n",
       "1  J. Bigelow  2010  Quine, Mereology, and Inference to the Best Ex...   \n",
       "2     R. Boyd  1981   Scientific Realism and Naturalistic Epistemology   \n",
       "3     R. Boyd  1984           The Current Status of Scientific Realism   \n",
       "4     R. Boyd  1985                        Lex Orandi est Lex Credendi   \n",
       "\n",
       "  First author   Abr  \n",
       "0      J Adler  True  \n",
       "1    J Bigelow  True  \n",
       "2       R Boyd  True  \n",
       "3       R Boyd  True  \n",
       "4       R Boyd  True  "
      ]
     },
     "execution_count": 85,
     "metadata": {},
     "output_type": "execute_result"
    }
   ],
   "source": [
    "# Determine the names we still need to find\n",
    "df_temp = df\n",
    "# Column of Boolean values to flag which names are abbreviated\n",
    "df_temp[\"Abr\"] = df_temp[\"First author\"].apply(lambda x: x.split(\" \")[0].isupper())\n",
    "# Retrict to abbreviated names\n",
    "df_temp = df_temp[df_temp[\"Abr\"]].copy().reset_index(drop=True)\n",
    "# Print length\n",
    "print(f\"There are still {len(df_temp)} abbreviated names.\")\n",
    "df_temp.head()"
   ]
  },
  {
   "cell_type": "code",
   "execution_count": 20,
   "metadata": {},
   "outputs": [],
   "source": [
    "# Define headers for URL request\n",
    "headers = {\n",
    "    'Access-Control-Allow-Origin': '*',\n",
    "    'Access-Control-Allow-Methods': 'GET',\n",
    "    'Access-Control-Allow-Headers': 'Content-Type',\n",
    "    'Access-Control-Max-Age': '3600',\n",
    "    'User-Agent': 'Mozilla/5.0 (X11; Ubuntu; Linux x86_64; rv:52.0) Gecko/20100101 Firefox/52.0'\n",
    "    }"
   ]
  },
  {
   "cell_type": "code",
   "execution_count": 17,
   "metadata": {},
   "outputs": [
    {
     "data": {
      "text/plain": [
       "(33614, 5)"
      ]
     },
     "execution_count": 17,
     "metadata": {},
     "output_type": "execute_result"
    }
   ],
   "source": [
    "# Open df_temp\n",
    "df_temp = pd.read_csv(\"df_temp.csv\")[[\"Authors\", \"Year\", \"Title\",\"First author\", \"Abr\"]]\n",
    "len(df_temp[df_temp[\"Abr\"]==True])\n",
    "df_temp.shape"
   ]
  },
  {
   "cell_type": "code",
   "execution_count": 37,
   "metadata": {},
   "outputs": [
    {
     "name": "stdout",
     "output_type": "stream",
     "text": [
      "33612\n",
      "33612\n",
      "Authors                                         S. Yablo\n",
      "Year                                                1993\n",
      "Title           Philosophy and Phenomenological Research\n",
      "First author                                     S Yablo\n",
      "Abr                                                 True\n",
      "Name: 33612, dtype: object\n",
      "https://philpapers.org/s/S%20Yablo%20Philosophy%20and%20Phenomenological%20Research\n",
      "Error: Alonzo Church\n",
      "Abr name: S Yablo, full name: Alonzo Church, length: True, initials: False, last name: False\n",
      "(33614, 5)\n",
      "33613\n",
      "Authors                                         S. Yablo\n",
      "Year                                                1999\n",
      "Title           Philosophy and Phenomenological Research\n",
      "First author                                     S Yablo\n",
      "Abr                                                 True\n",
      "Name: 33613, dtype: object\n",
      "https://philpapers.org/s/S%20Yablo%20Philosophy%20and%20Phenomenological%20Research\n",
      "Error: Alonzo Church\n",
      "Abr name: S Yablo, full name: Alonzo Church, length: True, initials: False, last name: False\n",
      "(33614, 5)\n"
     ]
    },
    {
     "name": "stderr",
     "output_type": "stream",
     "text": [
      "<ipython-input-37-d39382acc652>:55: SettingWithCopyWarning: \n",
      "A value is trying to be set on a copy of a slice from a DataFrame\n",
      "\n",
      "See the caveats in the documentation: https://pandas.pydata.org/pandas-docs/stable/user_guide/indexing.html#returning-a-view-versus-a-copy\n",
      "  df_temp[\"First author\"][index] = \"(Error)\"\n",
      "<ipython-input-37-d39382acc652>:57: SettingWithCopyWarning: \n",
      "A value is trying to be set on a copy of a slice from a DataFrame\n",
      "\n",
      "See the caveats in the documentation: https://pandas.pydata.org/pandas-docs/stable/user_guide/indexing.html#returning-a-view-versus-a-copy\n",
      "  df_temp[\"Abr\"][index] = False\n"
     ]
    }
   ],
   "source": [
    "# Initialize count\n",
    "count = 0\n",
    "\n",
    "# Find index of first abbreviated name and add count to it (THIS IS WRONG - WE NEED POSITION, NOT)\n",
    "first_abr = df_temp[df_temp[\"Abr\"]].index[0]\n",
    "print(first_abr)\n",
    "\n",
    "\n",
    "# Loop through\n",
    "for count in range(2):\n",
    "    \n",
    "    # Get index by adding count to the determined index of the first abr name \n",
    "    index = first_abr+count\n",
    "    print(index)\n",
    "    # Get row from data frame\n",
    "    row = df_temp.iloc[index,:]\n",
    "    print(row)\n",
    "    # Retrieve author\n",
    "    author = row[\"First author\"]\n",
    "    # Retrieve title and remove HTML tags\n",
    "    title = BeautifulSoup(row[\"Title\"],\"lxml\").text\n",
    "    query = f\"{author} {title}\".replace(\" \",\"%20\")\n",
    "    path = \"https://philpapers.org/s/\"+query\n",
    "    print(path)\n",
    "    try:\n",
    "        req = requests.get(path, headers)\n",
    "        soup = BeautifulSoup(req.content, 'html.parser')\n",
    "        entry = soup.find_all(\"li\", class_=\"entry\")[0]\n",
    "    \n",
    "        # Loop through all names one the site\n",
    "        for entry in entry.findChildren(\"span\" ,class_=\"name\"):\n",
    "            name = entry.getText()\n",
    "            # Set up checks whether name not too long, whether it matches with initials and last name\n",
    "            length_check = len(name)<50\n",
    "            first_initial_check = name.split(\" \")[0][0]==author.split(\" \")[0][0]\n",
    "            lastname_check = name.split(\" \")[-1]==author.split(\" \")[-1]\n",
    "            # Run checks\n",
    "            if length_check and first_initial_check and lastname_check:\n",
    "                # Add name to the author column\n",
    "                df_temp[\"First author\"][index] = name\n",
    "                # Change the Boolean flag to false\n",
    "                df_temp[\"Abr\"][index] = False\n",
    "                # Break loop as soon as a match is found\n",
    "                print(f\"Success: {name}\")\n",
    "                break\n",
    "    except:\n",
    "        print(f\"BeautifulSoup error with: {author}, {title}\")\n",
    "    # If still no name is found, declare error\n",
    "    if df_temp[\"Abr\"][index]==True:\n",
    "        print(f\"Error: {name}\")\n",
    "        # Declare error\n",
    "        df_temp[\"First author\"][index] = \"(Error)\"\n",
    "        # Change the Boolean flag to false\n",
    "        df_temp[\"Abr\"][index] = False\n",
    "\n",
    "df_temp.head(15)\n",
    "\n",
    "assert df_temp.shape == (33614, 5)\n",
    "# Save to file remove for final version\n",
    "#df_temp.to_csv(\"df_temp.csv\")\n",
    "    "
   ]
  },
  {
   "cell_type": "code",
   "execution_count": 41,
   "metadata": {},
   "outputs": [
    {
     "data": {
      "text/plain": [
       "14942"
      ]
     },
     "execution_count": 41,
     "metadata": {},
     "output_type": "execute_result"
    }
   ],
   "source": [
    "# How many unsuccessful attempts to retrieve?\n",
    "len(df_temp[df_temp[\"First author\"]!=\"(Error)\"])"
   ]
  },
  {
   "cell_type": "markdown",
   "metadata": {},
   "source": [
    "We were able to retrieve 14942 full names. Let us analyze these:"
   ]
  },
  {
   "cell_type": "code",
   "execution_count": 44,
   "metadata": {},
   "outputs": [
    {
     "data": {
      "text/html": [
       "<div>\n",
       "<style scoped>\n",
       "    .dataframe tbody tr th:only-of-type {\n",
       "        vertical-align: middle;\n",
       "    }\n",
       "\n",
       "    .dataframe tbody tr th {\n",
       "        vertical-align: top;\n",
       "    }\n",
       "\n",
       "    .dataframe thead th {\n",
       "        text-align: right;\n",
       "    }\n",
       "</style>\n",
       "<table border=\"1\" class=\"dataframe\">\n",
       "  <thead>\n",
       "    <tr style=\"text-align: right;\">\n",
       "      <th></th>\n",
       "      <th>Authors</th>\n",
       "      <th>Year</th>\n",
       "      <th>Title</th>\n",
       "      <th>First author</th>\n",
       "      <th>Abr</th>\n",
       "    </tr>\n",
       "  </thead>\n",
       "  <tbody>\n",
       "    <tr>\n",
       "      <th>11</th>\n",
       "      <td>G. Harman</td>\n",
       "      <td>1973</td>\n",
       "      <td>Thought</td>\n",
       "      <td>(Error)</td>\n",
       "      <td>False</td>\n",
       "    </tr>\n",
       "    <tr>\n",
       "      <th>16</th>\n",
       "      <td>D. J. Koehler</td>\n",
       "      <td>1991</td>\n",
       "      <td>Explanation, Imagination, and Confidence in Ju...</td>\n",
       "      <td>(Error)</td>\n",
       "      <td>False</td>\n",
       "    </tr>\n",
       "    <tr>\n",
       "      <th>17</th>\n",
       "      <td>B. Koslowski,  J.  Marasia,  M.  Chelenza,  R....</td>\n",
       "      <td>2008</td>\n",
       "      <td>Information Becomes Evidence when an Explanati...</td>\n",
       "      <td>(Error)</td>\n",
       "      <td>False</td>\n",
       "    </tr>\n",
       "    <tr>\n",
       "      <th>19</th>\n",
       "      <td>K Krzyżanowska,  S.  Wenmackers,  I.  Douven</td>\n",
       "      <td>2014</td>\n",
       "      <td>Rethinking Gibbard’s Riverboat Argument</td>\n",
       "      <td>(Error)</td>\n",
       "      <td>False</td>\n",
       "    </tr>\n",
       "    <tr>\n",
       "      <th>30</th>\n",
       "      <td>H. Putnam</td>\n",
       "      <td>1981</td>\n",
       "      <td>Reason, Truth and History</td>\n",
       "      <td>(Error)</td>\n",
       "      <td>False</td>\n",
       "    </tr>\n",
       "    <tr>\n",
       "      <th>31</th>\n",
       "      <td>B. Russell</td>\n",
       "      <td>1912</td>\n",
       "      <td>The Problems of Philosophy</td>\n",
       "      <td>(Error)</td>\n",
       "      <td>False</td>\n",
       "    </tr>\n",
       "    <tr>\n",
       "      <th>37</th>\n",
       "      <td>A. Minnis,  A. B. (eds.)  Scott</td>\n",
       "      <td>1988</td>\n",
       "      <td>Medieval Literary Theory and Criticism 1100–1375</td>\n",
       "      <td>(Error)</td>\n",
       "      <td>False</td>\n",
       "    </tr>\n",
       "    <tr>\n",
       "      <th>38</th>\n",
       "      <td>D. P. Henry</td>\n",
       "      <td>1985</td>\n",
       "      <td>Abelard’s Mereological Terminology</td>\n",
       "      <td>(Error)</td>\n",
       "      <td>False</td>\n",
       "    </tr>\n",
       "    <tr>\n",
       "      <th>40</th>\n",
       "      <td>L. Cousins</td>\n",
       "      <td>1981</td>\n",
       "      <td>The &lt;em&gt;Paṭṭhāna&lt;/em&gt; and the Development of t...</td>\n",
       "      <td>(Error)</td>\n",
       "      <td>False</td>\n",
       "    </tr>\n",
       "    <tr>\n",
       "      <th>41</th>\n",
       "      <td>L. Cousins</td>\n",
       "      <td>1983</td>\n",
       "      <td>Pali Oral Literature</td>\n",
       "      <td>(Error)</td>\n",
       "      <td>False</td>\n",
       "    </tr>\n",
       "    <tr>\n",
       "      <th>42</th>\n",
       "      <td>L. Cousins</td>\n",
       "      <td>1991</td>\n",
       "      <td>The ‘Five Points’ and the Origins of the Buddh...</td>\n",
       "      <td>(Error)</td>\n",
       "      <td>False</td>\n",
       "    </tr>\n",
       "    <tr>\n",
       "      <th>43</th>\n",
       "      <td>L. Cousins</td>\n",
       "      <td>2001</td>\n",
       "      <td>On the Vibhajjavādins: the Mahiṃsāsaka, Dhamma...</td>\n",
       "      <td>(Error)</td>\n",
       "      <td>False</td>\n",
       "    </tr>\n",
       "    <tr>\n",
       "      <th>46</th>\n",
       "      <td>I.B. Horner</td>\n",
       "      <td>1941</td>\n",
       "      <td>Abhidhamma abhivinaya</td>\n",
       "      <td>(Error)</td>\n",
       "      <td>False</td>\n",
       "    </tr>\n",
       "    <tr>\n",
       "      <th>48</th>\n",
       "      <td>D. Kalupahana</td>\n",
       "      <td>1961</td>\n",
       "      <td>A Prolegomena to the Philosophy of Relations i...</td>\n",
       "      <td>(Error)</td>\n",
       "      <td>False</td>\n",
       "    </tr>\n",
       "    <tr>\n",
       "      <th>49</th>\n",
       "      <td>Y. Karunadasa</td>\n",
       "      <td>1996</td>\n",
       "      <td>http://www.zeh-verlag.de/download/dhammatheory...</td>\n",
       "      <td>(Error)</td>\n",
       "      <td>False</td>\n",
       "    </tr>\n",
       "    <tr>\n",
       "      <th>50</th>\n",
       "      <td>Y. Karunadasa</td>\n",
       "      <td>2010</td>\n",
       "      <td>Theravāda Abhidhamma: Its Inquiry into the Nat...</td>\n",
       "      <td>(Error)</td>\n",
       "      <td>False</td>\n",
       "    </tr>\n",
       "    <tr>\n",
       "      <th>51</th>\n",
       "      <td>W.D. Kim</td>\n",
       "      <td>1999</td>\n",
       "      <td>The Theravādin Doctrine of Momentariness: A Su...</td>\n",
       "      <td>(Error)</td>\n",
       "      <td>False</td>\n",
       "    </tr>\n",
       "    <tr>\n",
       "      <th>52</th>\n",
       "      <td>K. R. Norman</td>\n",
       "      <td>1983</td>\n",
       "      <td>Pāli Literature: Including the Canonical Liter...</td>\n",
       "      <td>(Error)</td>\n",
       "      <td>False</td>\n",
       "    </tr>\n",
       "    <tr>\n",
       "      <th>53</th>\n",
       "      <td>G. Obeyesekere</td>\n",
       "      <td>1991</td>\n",
       "      <td>Myth, History and Numerology in the Buddhist C...</td>\n",
       "      <td>(Error)</td>\n",
       "      <td>False</td>\n",
       "    </tr>\n",
       "    <tr>\n",
       "      <th>54</th>\n",
       "      <td>W. Waldron</td>\n",
       "      <td>2002</td>\n",
       "      <td>Buddhist Steps to an Ecology of Mind: Thinking...</td>\n",
       "      <td>(Error)</td>\n",
       "      <td>False</td>\n",
       "    </tr>\n",
       "  </tbody>\n",
       "</table>\n",
       "</div>"
      ],
      "text/plain": [
       "                                              Authors  Year  \\\n",
       "11                                          G. Harman  1973   \n",
       "16                                      D. J. Koehler  1991   \n",
       "17  B. Koslowski,  J.  Marasia,  M.  Chelenza,  R....  2008   \n",
       "19       K Krzyżanowska,  S.  Wenmackers,  I.  Douven  2014   \n",
       "30                                          H. Putnam  1981   \n",
       "31                                         B. Russell  1912   \n",
       "37                    A. Minnis,  A. B. (eds.)  Scott  1988   \n",
       "38                                        D. P. Henry  1985   \n",
       "40                                         L. Cousins  1981   \n",
       "41                                         L. Cousins  1983   \n",
       "42                                         L. Cousins  1991   \n",
       "43                                         L. Cousins  2001   \n",
       "46                                        I.B. Horner  1941   \n",
       "48                                      D. Kalupahana  1961   \n",
       "49                                      Y. Karunadasa  1996   \n",
       "50                                      Y. Karunadasa  2010   \n",
       "51                                           W.D. Kim  1999   \n",
       "52                                       K. R. Norman  1983   \n",
       "53                                     G. Obeyesekere  1991   \n",
       "54                                         W. Waldron  2002   \n",
       "\n",
       "                                                Title First author    Abr  \n",
       "11                                            Thought      (Error)  False  \n",
       "16  Explanation, Imagination, and Confidence in Ju...      (Error)  False  \n",
       "17  Information Becomes Evidence when an Explanati...      (Error)  False  \n",
       "19            Rethinking Gibbard’s Riverboat Argument      (Error)  False  \n",
       "30                          Reason, Truth and History      (Error)  False  \n",
       "31                         The Problems of Philosophy      (Error)  False  \n",
       "37   Medieval Literary Theory and Criticism 1100–1375      (Error)  False  \n",
       "38                 Abelard’s Mereological Terminology      (Error)  False  \n",
       "40  The <em>Paṭṭhāna</em> and the Development of t...      (Error)  False  \n",
       "41                               Pali Oral Literature      (Error)  False  \n",
       "42  The ‘Five Points’ and the Origins of the Buddh...      (Error)  False  \n",
       "43  On the Vibhajjavādins: the Mahiṃsāsaka, Dhamma...      (Error)  False  \n",
       "46                              Abhidhamma abhivinaya      (Error)  False  \n",
       "48  A Prolegomena to the Philosophy of Relations i...      (Error)  False  \n",
       "49  http://www.zeh-verlag.de/download/dhammatheory...      (Error)  False  \n",
       "50  Theravāda Abhidhamma: Its Inquiry into the Nat...      (Error)  False  \n",
       "51  The Theravādin Doctrine of Momentariness: A Su...      (Error)  False  \n",
       "52  Pāli Literature: Including the Canonical Liter...      (Error)  False  \n",
       "53  Myth, History and Numerology in the Buddhist C...      (Error)  False  \n",
       "54  Buddhist Steps to an Ecology of Mind: Thinking...      (Error)  False  "
      ]
     },
     "execution_count": 44,
     "metadata": {},
     "output_type": "execute_result"
    }
   ],
   "source": [
    "df_temp[df_temp[\"First author\"]==\"(Error)\"].head()"
   ]
  },
  {
   "cell_type": "markdown",
   "metadata": {},
   "source": [
    "Now we will match the obtained data with the existing data set:"
   ]
  },
  {
   "cell_type": "code",
   "execution_count": 51,
   "metadata": {},
   "outputs": [],
   "source": [
    "# Postprocess: deunicode, remove middle name, remove punctuation\n",
    "# Find closest ASCII representation\n",
    "df_temp[\"First author\"] = df_temp[\"First author\"].apply(lambda x: unidecode.unidecode(x))\n",
    "# Remove punctuation\n",
    "df_temp[\"First author\"] = df_temp[\"First author\"].apply(lambda x: x.replace(\".\",\"\").replace(\";\",\"\").replace(\",\",\"\"))\n",
    "# Remove middle name\n",
    "df_temp[\"First author\"] = df_temp[\"First author\"].apply(lambda x: x.split(\" \")[0]+\" \"+x.split(\" \")[-1] if x!=\"(Error)\" else x)\n",
    "# Drop duplicate entries\n",
    "df_temp = df_temp.drop_duplicates()\n",
    "\n",
    "df_temp.head()"
   ]
  },
  {
   "cell_type": "code",
   "execution_count": 149,
   "metadata": {},
   "outputs": [],
   "source": [
    "# Merge the two data sets \n",
    "df_updated = pd.merge(\n",
    "    df,\n",
    "    df_temp,\n",
    "    how=\"left\",\n",
    "    on=[\"Authors\",\"Year\",\"Title\"],\n",
    "    left_on=None,\n",
    "    right_on=None,\n",
    "    left_index=False,\n",
    "    right_index=False,\n",
    "    sort=False,\n",
    "    suffixes=(\"_x\", \"_y\"),\n",
    "    copy=True,\n",
    "    indicator=False,\n",
    "    validate=None,\n",
    ")"
   ]
  },
  {
   "cell_type": "code",
   "execution_count": 150,
   "metadata": {},
   "outputs": [
    {
     "data": {
      "text/html": [
       "<div>\n",
       "<style scoped>\n",
       "    .dataframe tbody tr th:only-of-type {\n",
       "        vertical-align: middle;\n",
       "    }\n",
       "\n",
       "    .dataframe tbody tr th {\n",
       "        vertical-align: top;\n",
       "    }\n",
       "\n",
       "    .dataframe thead th {\n",
       "        text-align: right;\n",
       "    }\n",
       "</style>\n",
       "<table border=\"1\" class=\"dataframe\">\n",
       "  <thead>\n",
       "    <tr style=\"text-align: right;\">\n",
       "      <th></th>\n",
       "      <th>First author</th>\n",
       "      <th>Year</th>\n",
       "      <th>Title</th>\n",
       "    </tr>\n",
       "  </thead>\n",
       "  <tbody>\n",
       "    <tr>\n",
       "      <th>0</th>\n",
       "      <td>Peter Achinstein</td>\n",
       "      <td>2001</td>\n",
       "      <td>The Book of Evidence</td>\n",
       "    </tr>\n",
       "    <tr>\n",
       "      <th>1</th>\n",
       "      <td>Jonathan Adler</td>\n",
       "      <td>1994</td>\n",
       "      <td>Testimony, Trust, Knowing</td>\n",
       "    </tr>\n",
       "    <tr>\n",
       "      <th>2</th>\n",
       "      <td>Kent Bach</td>\n",
       "      <td>1979</td>\n",
       "      <td>Linguistic Communication and Speech Acts</td>\n",
       "    </tr>\n",
       "    <tr>\n",
       "      <th>3</th>\n",
       "      <td>Alexander Bird</td>\n",
       "      <td>1998</td>\n",
       "      <td>Philosophy of Science</td>\n",
       "    </tr>\n",
       "    <tr>\n",
       "      <th>4</th>\n",
       "      <td>John Bigelow</td>\n",
       "      <td>2010</td>\n",
       "      <td>Quine, Mereology, and Inference to the Best Ex...</td>\n",
       "    </tr>\n",
       "  </tbody>\n",
       "</table>\n",
       "</div>"
      ],
      "text/plain": [
       "       First author  Year                                              Title\n",
       "0  Peter Achinstein  2001                               The Book of Evidence\n",
       "1    Jonathan Adler  1994                          Testimony, Trust, Knowing\n",
       "2         Kent Bach  1979           Linguistic Communication and Speech Acts\n",
       "3    Alexander Bird  1998                              Philosophy of Science\n",
       "4      John Bigelow  2010  Quine, Mereology, and Inference to the Best Ex..."
      ]
     },
     "execution_count": 150,
     "metadata": {},
     "output_type": "execute_result"
    }
   ],
   "source": [
    "# if first author_y NaN or author_y \"(Error)\": first author = first author_x; else first author = first_author_y\n",
    "df_updated[\"First author\"] = df_updated.apply(lambda x: x[\"First author_x\"] if (str(x[\"First author_y\"])==\"nan\" or x[\"First author_y\"]==\"(Error)\") else x[\"First author_y\"], axis = 1)\n",
    "df_updated = df_updated[[\"First author\",\"Year\", \"Title\"]]\n",
    "df_updated.head()\n"
   ]
  },
  {
   "cell_type": "code",
   "execution_count": 151,
   "metadata": {},
   "outputs": [
    {
     "name": "stdout",
     "output_type": "stream",
     "text": [
      "Full names: 29362, Abbreviated names: 10908\n"
     ]
    }
   ],
   "source": [
    "# Split into two lists, one where the full name is complete (same as above, except df_updated rather than df - put in function)\n",
    "# and one where its only initials, then try to match to each other\n",
    "\n",
    "# Initialize empty lists for full names and for initials\n",
    "full_names = []\n",
    "abr_names = []\n",
    "\n",
    "# Sort into full and abbreviated names by checking whether what is before the first whitespace is only uppercase letters\n",
    "for name in df_updated['First author'].unique():\n",
    "    if name.split(\" \")[0].isupper():\n",
    "        abr_names.append(name)\n",
    "    else:\n",
    "        full_names.append(name)\n",
    "        \n",
    "print(f\"Full names: {len(full_names)}, Abbreviated names: {len(abr_names)}\")    "
   ]
  },
  {
   "cell_type": "code",
   "execution_count": 152,
   "metadata": {},
   "outputs": [
    {
     "name": "stdout",
     "output_type": "stream",
     "text": [
      "We found matches for a total of 2381 abbreviated names, of which 923 are unique.\n"
     ]
    }
   ],
   "source": [
    "# Initialize a list to store matches in (same as above, no changes)\n",
    "matches = []\n",
    "\n",
    "# Iterate through abbreviated names\n",
    "for name in abr_names:\n",
    "    # extract first letter of first name and last name\n",
    "    initial = name[0]\n",
    "    last_name = name.split(\" \")[-1]\n",
    "    # Boolean flag to indicate whether there is a unique match\n",
    "    matches_temp = []\n",
    "    # Iterate through full name list\n",
    "    for full_name in full_names:\n",
    "        initial_f = full_name[0]\n",
    "        last_name_f = full_name.split(\" \")[-1]\n",
    "        # Match if it's the same initial, same last name (+ add that first name has to have at least two letters without )\n",
    "        if initial==initial_f and last_name==last_name_f:\n",
    "            #print(f\"Abbreviated: {name}, Full: {full_name}\")\n",
    "            matches_temp.append(full_name)\n",
    "    # If there are any specific matches, append to match list\n",
    "    if matches_temp:\n",
    "        matches.append([name, matches_temp])\n",
    "\n",
    "# Find unique matches among all matches\n",
    "unique_matches = [match for match in matches if len(match[1])==1]\n",
    "\n",
    "print(f\"We found matches for a total of {len(matches)} abbreviated names, of which {len(unique_matches)} are unique.\")\n",
    "        \n",
    "    "
   ]
  },
  {
   "cell_type": "code",
   "execution_count": 153,
   "metadata": {},
   "outputs": [
    {
     "data": {
      "text/html": [
       "<div>\n",
       "<style scoped>\n",
       "    .dataframe tbody tr th:only-of-type {\n",
       "        vertical-align: middle;\n",
       "    }\n",
       "\n",
       "    .dataframe tbody tr th {\n",
       "        vertical-align: top;\n",
       "    }\n",
       "\n",
       "    .dataframe thead th {\n",
       "        text-align: right;\n",
       "    }\n",
       "</style>\n",
       "<table border=\"1\" class=\"dataframe\">\n",
       "  <thead>\n",
       "    <tr style=\"text-align: right;\">\n",
       "      <th></th>\n",
       "      <th>First author</th>\n",
       "      <th>Year</th>\n",
       "      <th>Title</th>\n",
       "    </tr>\n",
       "  </thead>\n",
       "  <tbody>\n",
       "    <tr>\n",
       "      <th>0</th>\n",
       "      <td>Peter Achinstein</td>\n",
       "      <td>2001</td>\n",
       "      <td>The Book of Evidence</td>\n",
       "    </tr>\n",
       "    <tr>\n",
       "      <th>1</th>\n",
       "      <td>Jonathan Adler</td>\n",
       "      <td>1994</td>\n",
       "      <td>Testimony, Trust, Knowing</td>\n",
       "    </tr>\n",
       "    <tr>\n",
       "      <th>2</th>\n",
       "      <td>Kent Bach</td>\n",
       "      <td>1979</td>\n",
       "      <td>Linguistic Communication and Speech Acts</td>\n",
       "    </tr>\n",
       "    <tr>\n",
       "      <th>3</th>\n",
       "      <td>Alexander Bird</td>\n",
       "      <td>1998</td>\n",
       "      <td>Philosophy of Science</td>\n",
       "    </tr>\n",
       "    <tr>\n",
       "      <th>4</th>\n",
       "      <td>John Bigelow</td>\n",
       "      <td>2010</td>\n",
       "      <td>Quine, Mereology, and Inference to the Best Ex...</td>\n",
       "    </tr>\n",
       "  </tbody>\n",
       "</table>\n",
       "</div>"
      ],
      "text/plain": [
       "       First author  Year                                              Title\n",
       "0  Peter Achinstein  2001                               The Book of Evidence\n",
       "1    Jonathan Adler  1994                          Testimony, Trust, Knowing\n",
       "2         Kent Bach  1979           Linguistic Communication and Speech Acts\n",
       "3    Alexander Bird  1998                              Philosophy of Science\n",
       "4      John Bigelow  2010  Quine, Mereology, and Inference to the Best Ex..."
      ]
     },
     "execution_count": 153,
     "metadata": {},
     "output_type": "execute_result"
    }
   ],
   "source": [
    "# Define a function which takes as input an abbreviated name and returns a full name if a unique match is available\n",
    "# and the initial name otherwise (same as above - put all together in function)\n",
    "def get_full_name(name):\n",
    "    # Check whether name is an abbreviated name\n",
    "    if name.split(\" \")[0].isupper():\n",
    "        # Check whether there's a unique match\n",
    "        for unique_match in unique_matches:\n",
    "            # If the name matches, return that name\n",
    "            if name==unique_match[0]:\n",
    "                return unique_match[1][0]\n",
    "    return name\n",
    "\n",
    "df_updated[\"First author\"] = df_updated[\"First author\"].apply(lambda x: get_full_name(x))\n",
    "df_updated.head()"
   ]
  },
  {
   "cell_type": "markdown",
   "metadata": {},
   "source": [
    "We will conduct a final test to see how many entries have full names, and how many have abbreviated names. We'll drop the abbreviated names."
   ]
  },
  {
   "cell_type": "code",
   "execution_count": 167,
   "metadata": {},
   "outputs": [
    {
     "name": "stdout",
     "output_type": "stream",
     "text": [
      " Number of entries to keep: 146472. Number of entries to drop: 0 (0.0%)\n"
     ]
    }
   ],
   "source": [
    "df_updated[\"Abr\"] = df_updated[\"First author\"].apply(lambda x: x.split(\" \")[0].isupper())\n",
    "keep_count = len(df_updated[~df_updated[\"Abr\"]])\n",
    "drop_count = len(df_updated[df_updated[\"Abr\"]])\n",
    "print(f\" Number of entries to keep: {keep_count}. Number of entries to drop: {drop_count} ({round(drop_count/(keep_count+drop_count),2)*100}%)\")"
   ]
  },
  {
   "cell_type": "markdown",
   "metadata": {},
   "source": [
    "This means we have to drop another 19988 or 12% of entries."
   ]
  },
  {
   "cell_type": "code",
   "execution_count": 155,
   "metadata": {},
   "outputs": [
    {
     "data": {
      "text/plain": [
       "(146472, 3)"
      ]
     },
     "execution_count": 155,
     "metadata": {},
     "output_type": "execute_result"
    }
   ],
   "source": [
    "df_updated = df_updated[~df_updated[\"Abr\"]][[\"First author\",\"Year\",\"Title\"]]\n",
    "df_updated.shape"
   ]
  },
  {
   "cell_type": "code",
   "execution_count": 157,
   "metadata": {},
   "outputs": [],
   "source": [
    "# Save the data set to CSV\n",
    "df_updated.to_csv(\"data/dataset_full_names.csv\")"
   ]
  }
 ],
 "metadata": {
  "kernelspec": {
   "display_name": "Python 3",
   "language": "python",
   "name": "python3"
  },
  "language_info": {
   "codemirror_mode": {
    "name": "ipython",
    "version": 3
   },
   "file_extension": ".py",
   "mimetype": "text/x-python",
   "name": "python",
   "nbconvert_exporter": "python",
   "pygments_lexer": "ipython3",
   "version": "3.8.5"
  }
 },
 "nbformat": 4,
 "nbformat_minor": 4
}
