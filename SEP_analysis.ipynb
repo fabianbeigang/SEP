{
 "cells": [
  {
   "cell_type": "markdown",
   "metadata": {},
   "source": [
    "# Stanford Encyclopedia of Philosophy - Gender Proportion Analysis"
   ]
  },
  {
   "cell_type": "markdown",
   "metadata": {},
   "source": [
    "## Introduction"
   ]
  },
  {
   "cell_type": "markdown",
   "metadata": {},
   "source": [
    "The *Stanford Encyclopedia of Philosophy* (https://plato.stanford.edu/) is often considered to contain the condensed knowledge of (academic) philosophy. As such, it is suggestive to analyze it in order to learn something about the field of academic philosophy. This is what I aim to do in this notebook.\n",
    "\n",
    "In particular, I am interested in examining to which degree the different genders are represented within the encyclopedia. To this end, we will analyze a dataset containing all the references that appear in the encyclopedia, that is, all the books and journal articles that are being cited (a description of how I gathered the data can be found in a different notebook). I will address the following questions:\n",
    "\n",
    "* Overall, how often are works by women cited, and how often works by men?\n",
    "* Does the proportion of female-authored works change over time (i.e. if we look at different publication years)?"
   ]
  },
  {
   "cell_type": "markdown",
   "metadata": {},
   "source": [
    "## The data set"
   ]
  },
  {
   "cell_type": "markdown",
   "metadata": {},
   "source": [
    "Let us begin by loading the data set and examining its properties."
   ]
  },
  {
   "cell_type": "code",
   "execution_count": 1,
   "metadata": {},
   "outputs": [],
   "source": [
    "import pandas as pd\n",
    "import numpy as np"
   ]
  },
  {
   "cell_type": "code",
   "execution_count": 2,
   "metadata": {},
   "outputs": [
    {
     "name": "stdout",
     "output_type": "stream",
     "text": [
      "The dataset contains 146472 entries.\n"
     ]
    },
    {
     "data": {
      "text/html": [
       "<div>\n",
       "<style scoped>\n",
       "    .dataframe tbody tr th:only-of-type {\n",
       "        vertical-align: middle;\n",
       "    }\n",
       "\n",
       "    .dataframe tbody tr th {\n",
       "        vertical-align: top;\n",
       "    }\n",
       "\n",
       "    .dataframe thead th {\n",
       "        text-align: right;\n",
       "    }\n",
       "</style>\n",
       "<table border=\"1\" class=\"dataframe\">\n",
       "  <thead>\n",
       "    <tr style=\"text-align: right;\">\n",
       "      <th></th>\n",
       "      <th>First author</th>\n",
       "      <th>Year</th>\n",
       "      <th>Title</th>\n",
       "    </tr>\n",
       "  </thead>\n",
       "  <tbody>\n",
       "    <tr>\n",
       "      <th>0</th>\n",
       "      <td>Peter Achinstein</td>\n",
       "      <td>2001</td>\n",
       "      <td>The Book of Evidence</td>\n",
       "    </tr>\n",
       "    <tr>\n",
       "      <th>1</th>\n",
       "      <td>Jonathan Adler</td>\n",
       "      <td>1994</td>\n",
       "      <td>Testimony, Trust, Knowing</td>\n",
       "    </tr>\n",
       "    <tr>\n",
       "      <th>2</th>\n",
       "      <td>Kent Bach</td>\n",
       "      <td>1979</td>\n",
       "      <td>Linguistic Communication and Speech Acts</td>\n",
       "    </tr>\n",
       "    <tr>\n",
       "      <th>3</th>\n",
       "      <td>Alexander Bird</td>\n",
       "      <td>1998</td>\n",
       "      <td>Philosophy of Science</td>\n",
       "    </tr>\n",
       "    <tr>\n",
       "      <th>4</th>\n",
       "      <td>John Bigelow</td>\n",
       "      <td>2010</td>\n",
       "      <td>Quine, Mereology, and Inference to the Best Ex...</td>\n",
       "    </tr>\n",
       "  </tbody>\n",
       "</table>\n",
       "</div>"
      ],
      "text/plain": [
       "       First author  Year                                              Title\n",
       "0  Peter Achinstein  2001                               The Book of Evidence\n",
       "1    Jonathan Adler  1994                          Testimony, Trust, Knowing\n",
       "2         Kent Bach  1979           Linguistic Communication and Speech Acts\n",
       "3    Alexander Bird  1998                              Philosophy of Science\n",
       "4      John Bigelow  2010  Quine, Mereology, and Inference to the Best Ex..."
      ]
     },
     "execution_count": 2,
     "metadata": {},
     "output_type": "execute_result"
    }
   ],
   "source": [
    "df = pd.read_csv(\"data/dataset_full_names.csv\")[[\"First author\", \"Year\", \"Title\"]]\n",
    "print(f\"The dataset contains {len(df)} entries.\")\n",
    "df.head()"
   ]
  },
  {
   "cell_type": "markdown",
   "metadata": {},
   "source": [
    "The data set contains information on the *first author* of an article/book, the *year* in which it was published, and the *title* of the article/book. It contains 146472 entries (some preprocessing of erroneous references or reference that did not fit the format has been done beforehand, see the data notebook for more details). "
   ]
  },
  {
   "cell_type": "markdown",
   "metadata": {},
   "source": [
    "## Inferring an author's gender"
   ]
  },
  {
   "cell_type": "markdown",
   "metadata": {},
   "source": [
    "We want to analyze how works by men and women are represented in the encyclopedia. The only features we have at our disposal, however, are the name of the first author, the year of publication and the title of the work. We have no direct information about an author's gender. An author's first name, however, allows to guess their gender with relatively high reliability. This is, of course, a simplification that disregards non-binary authors who do not identify with either gender, and it might get the names of transgender people wrong, as well as some names which are used in untypical ways (Hilary Putnam, for instance, is a male philosopher with a first name that is more commonly given to girls). Nonetheless, under the assumption that these errors occur (roughly) equally often for authors categorized as *male* or *female*, the first name will allow us to obtain a relatively accurate estimate of the proportion of female-authored references in the encyclopedia. Yet, it is important to highlight that this does not give us exact numbers, but only an estimate.\n",
    "\n",
    "We use a package called *gender guesser* which categorizes first names into the following six categories:\n",
    "* *male* (a first name that is significantly more frequently given to boys), \n",
    "* *female* (a first name that is significantly more frequently given to girls), \n",
    "* *mostly male* (a first name that is slightly more frequently given to boys)\n",
    "* *mostly female* (a first name that is slightly more frequently given to girls)\n",
    "* *andy* (a first name that is equally frequently given to boys and girls)\n",
    "* *unknown* (the name was not found in the data base)"
   ]
  },
  {
   "cell_type": "code",
   "execution_count": 3,
   "metadata": {},
   "outputs": [
    {
     "data": {
      "text/html": [
       "<div>\n",
       "<style scoped>\n",
       "    .dataframe tbody tr th:only-of-type {\n",
       "        vertical-align: middle;\n",
       "    }\n",
       "\n",
       "    .dataframe tbody tr th {\n",
       "        vertical-align: top;\n",
       "    }\n",
       "\n",
       "    .dataframe thead th {\n",
       "        text-align: right;\n",
       "    }\n",
       "</style>\n",
       "<table border=\"1\" class=\"dataframe\">\n",
       "  <thead>\n",
       "    <tr style=\"text-align: right;\">\n",
       "      <th></th>\n",
       "      <th>First author</th>\n",
       "      <th>Year</th>\n",
       "      <th>Title</th>\n",
       "      <th>Gender guess</th>\n",
       "    </tr>\n",
       "  </thead>\n",
       "  <tbody>\n",
       "    <tr>\n",
       "      <th>0</th>\n",
       "      <td>Peter Achinstein</td>\n",
       "      <td>2001</td>\n",
       "      <td>The Book of Evidence</td>\n",
       "      <td>male</td>\n",
       "    </tr>\n",
       "    <tr>\n",
       "      <th>1</th>\n",
       "      <td>Jonathan Adler</td>\n",
       "      <td>1994</td>\n",
       "      <td>Testimony, Trust, Knowing</td>\n",
       "      <td>male</td>\n",
       "    </tr>\n",
       "    <tr>\n",
       "      <th>2</th>\n",
       "      <td>Kent Bach</td>\n",
       "      <td>1979</td>\n",
       "      <td>Linguistic Communication and Speech Acts</td>\n",
       "      <td>male</td>\n",
       "    </tr>\n",
       "    <tr>\n",
       "      <th>3</th>\n",
       "      <td>Alexander Bird</td>\n",
       "      <td>1998</td>\n",
       "      <td>Philosophy of Science</td>\n",
       "      <td>male</td>\n",
       "    </tr>\n",
       "    <tr>\n",
       "      <th>4</th>\n",
       "      <td>John Bigelow</td>\n",
       "      <td>2010</td>\n",
       "      <td>Quine, Mereology, and Inference to the Best Ex...</td>\n",
       "      <td>male</td>\n",
       "    </tr>\n",
       "  </tbody>\n",
       "</table>\n",
       "</div>"
      ],
      "text/plain": [
       "       First author  Year                                              Title  \\\n",
       "0  Peter Achinstein  2001                               The Book of Evidence   \n",
       "1    Jonathan Adler  1994                          Testimony, Trust, Knowing   \n",
       "2         Kent Bach  1979           Linguistic Communication and Speech Acts   \n",
       "3    Alexander Bird  1998                              Philosophy of Science   \n",
       "4      John Bigelow  2010  Quine, Mereology, and Inference to the Best Ex...   \n",
       "\n",
       "  Gender guess  \n",
       "0         male  \n",
       "1         male  \n",
       "2         male  \n",
       "3         male  \n",
       "4         male  "
      ]
     },
     "execution_count": 3,
     "metadata": {},
     "output_type": "execute_result"
    }
   ],
   "source": [
    "import gender_guesser.detector as gender\n",
    "\n",
    "# Initialize gender detector\n",
    "d = gender.Detector()\n",
    "df[\"Gender guess\"] = df[\"First author\"].apply(lambda x: d.get_gender(x.split(\" \")[0]))\n",
    "df.head()"
   ]
  },
  {
   "cell_type": "markdown",
   "metadata": {},
   "source": [
    "The only blatant mistake among the highly cited first authors seems to be that *Hilary Putnam* is categorized as *female*."
   ]
  },
  {
   "cell_type": "code",
   "execution_count": 4,
   "metadata": {},
   "outputs": [],
   "source": [
    "# Find all the rows in which the first author is \"Hilary Putname\"\n",
    "putnam_index = df.loc[df[\"First author\"]==\"Hilary Putnam\"].index.values\n",
    "# Iterate through all those rows\n",
    "for i in putnam_index:\n",
    "    # Change value to \"male\"\n",
    "    df.at[i,\"Gender guess\"] = \"male\""
   ]
  },
  {
   "cell_type": "markdown",
   "metadata": {},
   "source": [
    "## Analysis"
   ]
  },
  {
   "cell_type": "markdown",
   "metadata": {},
   "source": [
    "Let us now explore the gender differences present in the data. We begin by looking at the references' total distribution of first authors' gender."
   ]
  },
  {
   "cell_type": "code",
   "execution_count": 5,
   "metadata": {},
   "outputs": [
    {
     "data": {
      "text/html": [
       "<div>\n",
       "<style scoped>\n",
       "    .dataframe tbody tr th:only-of-type {\n",
       "        vertical-align: middle;\n",
       "    }\n",
       "\n",
       "    .dataframe tbody tr th {\n",
       "        vertical-align: top;\n",
       "    }\n",
       "\n",
       "    .dataframe thead th {\n",
       "        text-align: right;\n",
       "    }\n",
       "</style>\n",
       "<table border=\"1\" class=\"dataframe\">\n",
       "  <thead>\n",
       "    <tr style=\"text-align: right;\">\n",
       "      <th></th>\n",
       "      <th>Gender guess</th>\n",
       "      <th>Count</th>\n",
       "      <th>Percentage</th>\n",
       "    </tr>\n",
       "  </thead>\n",
       "  <tbody>\n",
       "    <tr>\n",
       "      <th>0</th>\n",
       "      <td>male</td>\n",
       "      <td>110229</td>\n",
       "      <td>75.26%</td>\n",
       "    </tr>\n",
       "    <tr>\n",
       "      <th>1</th>\n",
       "      <td>female</td>\n",
       "      <td>22419</td>\n",
       "      <td>15.31%</td>\n",
       "    </tr>\n",
       "    <tr>\n",
       "      <th>2</th>\n",
       "      <td>unknown</td>\n",
       "      <td>8580</td>\n",
       "      <td>5.86%</td>\n",
       "    </tr>\n",
       "    <tr>\n",
       "      <th>3</th>\n",
       "      <td>mostly_male</td>\n",
       "      <td>2812</td>\n",
       "      <td>1.92%</td>\n",
       "    </tr>\n",
       "    <tr>\n",
       "      <th>4</th>\n",
       "      <td>mostly_female</td>\n",
       "      <td>1775</td>\n",
       "      <td>1.21%</td>\n",
       "    </tr>\n",
       "  </tbody>\n",
       "</table>\n",
       "</div>"
      ],
      "text/plain": [
       "    Gender guess   Count Percentage\n",
       "0           male  110229     75.26%\n",
       "1         female   22419     15.31%\n",
       "2        unknown    8580      5.86%\n",
       "3    mostly_male    2812      1.92%\n",
       "4  mostly_female    1775      1.21%"
      ]
     },
     "execution_count": 5,
     "metadata": {},
     "output_type": "execute_result"
    }
   ],
   "source": [
    "# Count citations for each gender guess, drop irrelevant columns, and rename the \"Title\" column to \"Count\"\n",
    "df_total = df.groupby(\"Gender guess\").count().sort_values(\"Title\", ascending=False).reset_index()\n",
    "df_total = df_total[[\"Gender guess\", \"Title\"]]\n",
    "df_total = df_total.rename(columns={\"Title\": \"Count\"})\n",
    "\n",
    "# Get total number of citations\n",
    "total_citations = sum(df_total[\"Count\"])\n",
    "\n",
    "# Add column percentage \n",
    "df_total[\"Percentage\"] = df_total[\"Count\"]/total_citations\n",
    "df_total[\"Percentage\"] = df_total[\"Percentage\"].apply(lambda x: str(round(100*x,2))+\"%\")\n",
    "df_total.head()"
   ]
  },
  {
   "cell_type": "code",
   "execution_count": 80,
   "metadata": {},
   "outputs": [],
   "source": [
    "# Import Plotly packages\n",
    "import plotly.express as px\n",
    "from plotly.offline import init_notebook_mode, iplot\n",
    "from plotly.graph_objs import *\n",
    "\n",
    "# Set the template\n",
    "template=\"none\"\n",
    "color_male = px.colors.qualitative.D3[1]\n",
    "color_female = px.colors.qualitative.D3[0]"
   ]
  },
  {
   "cell_type": "code",
   "execution_count": 75,
   "metadata": {},
   "outputs": [
    {
     "data": {
      "text/plain": [
       "['#1F77B4',\n",
       " '#FF7F0E',\n",
       " '#2CA02C',\n",
       " '#D62728',\n",
       " '#9467BD',\n",
       " '#8C564B',\n",
       " '#E377C2',\n",
       " '#7F7F7F',\n",
       " '#BCBD22',\n",
       " '#17BECF']"
      ]
     },
     "execution_count": 75,
     "metadata": {},
     "output_type": "execute_result"
    }
   ],
   "source": [
    "px.colors.qualitative.D3"
   ]
  },
  {
   "cell_type": "code",
   "execution_count": 81,
   "metadata": {},
   "outputs": [
    {
     "data": {
      "application/vnd.plotly.v1+json": {
       "config": {
        "plotlyServerURL": "https://plot.ly"
       },
       "data": [
        {
         "marker": {
          "color": [
           "#FF7F0E",
           "#1F77B4",
           "lightgrey",
           "lightgrey",
           "lightgrey",
           "lightgrey"
          ]
         },
         "text": [
          "75.26%",
          "15.31%",
          "5.86%",
          "1.92%",
          "1.21%",
          "0.45%"
         ],
         "type": "bar",
         "x": [
          "male",
          "female",
          "unknown",
          "mostly_male",
          "mostly_female",
          "andy"
         ],
         "y": [
          110229,
          22419,
          8580,
          2812,
          1775,
          656
         ]
        }
       ],
       "layout": {
        "template": {
         "data": {
          "scatter": [
           {
            "type": "scatter"
           }
          ]
         }
        },
        "title": {
         "text": "Distribution of total citations on SEP (of works published after 1950)"
        }
       }
      },
      "text/html": [
       "<div>                            <div id=\"99987dfb-8d2c-4613-b9c7-7806415ddd60\" class=\"plotly-graph-div\" style=\"height:525px; width:100%;\"></div>            <script type=\"text/javascript\">                require([\"plotly\"], function(Plotly) {                    window.PLOTLYENV=window.PLOTLYENV || {};                                    if (document.getElementById(\"99987dfb-8d2c-4613-b9c7-7806415ddd60\")) {                    Plotly.newPlot(                        \"99987dfb-8d2c-4613-b9c7-7806415ddd60\",                        [{\"marker\":{\"color\":[\"#FF7F0E\",\"#1F77B4\",\"lightgrey\",\"lightgrey\",\"lightgrey\",\"lightgrey\"]},\"text\":[\"75.26%\",\"15.31%\",\"5.86%\",\"1.92%\",\"1.21%\",\"0.45%\"],\"type\":\"bar\",\"x\":[\"male\",\"female\",\"unknown\",\"mostly_male\",\"mostly_female\",\"andy\"],\"y\":[110229,22419,8580,2812,1775,656]}],                        {\"template\":{\"data\":{\"scatter\":[{\"type\":\"scatter\"}]}},\"title\":{\"text\":\"Distribution of total citations on SEP (of works published after 1950)\"}},                        {\"responsive\": true}                    ).then(function(){\n",
       "                            \n",
       "var gd = document.getElementById('99987dfb-8d2c-4613-b9c7-7806415ddd60');\n",
       "var x = new MutationObserver(function (mutations, observer) {{\n",
       "        var display = window.getComputedStyle(gd).display;\n",
       "        if (!display || display === 'none') {{\n",
       "            console.log([gd, 'removed!']);\n",
       "            Plotly.purge(gd);\n",
       "            observer.disconnect();\n",
       "        }}\n",
       "}});\n",
       "\n",
       "// Listen for the removal of the full notebook cells\n",
       "var notebookContainer = gd.closest('#notebook-container');\n",
       "if (notebookContainer) {{\n",
       "    x.observe(notebookContainer, {childList: true});\n",
       "}}\n",
       "\n",
       "// Listen for the clearing of the current output cell\n",
       "var outputEl = gd.closest('.output');\n",
       "if (outputEl) {{\n",
       "    x.observe(outputEl, {childList: true});\n",
       "}}\n",
       "\n",
       "                        })                };                });            </script>        </div>"
      ]
     },
     "metadata": {},
     "output_type": "display_data"
    }
   ],
   "source": [
    "# Barplot for distribution of total citations in SEP\n",
    "fig = Figure(data=[Bar(\n",
    "    x=df_total[\"Gender guess\"],\n",
    "    y=df_total[\"Count\"],\n",
    "    marker_color=[color_male,color_female,\"lightgrey\",\"lightgrey\",\"lightgrey\",\"lightgrey\"],\n",
    "    text=df_total[\"Percentage\"]\n",
    ")])\n",
    "\n",
    "fig.update_layout(title_text=\"Distribution of total citations on SEP (of works published after 1950)\", \n",
    "                  template=template)"
   ]
  },
  {
   "cell_type": "markdown",
   "metadata": {},
   "source": [
    "As we can see, 75.26% of references are works (guessed to be) authored by men. Only 15.31% of references are works (guessed to be) authored by women. The proportion of references assigned to the other four categories is less than 10%. To simplify the analysis, we will hence subsequently focus only on references that can be categorized as authored by either a male or a female author. Moreover, we will restrict our analysis to works published in the year 1950 and after.\n",
    "\n"
   ]
  },
  {
   "cell_type": "code",
   "execution_count": 8,
   "metadata": {},
   "outputs": [],
   "source": [
    "# Import function to determine whether a publication date is valid and within a specific year range\n",
    "from sep_functions import published_between"
   ]
  },
  {
   "cell_type": "code",
   "execution_count": 9,
   "metadata": {},
   "outputs": [],
   "source": [
    "# Drop year columns which are not between 1950 and 2022 or which cannot be converted to numbers (\"forthcoming\", etc.)\n",
    "df_years = df.copy()\n",
    "df_years[\"Year range\"] = df_years[\"Year\"].apply(lambda x: published_between(x,1950,2022))\n",
    "df_years = df_years[df_years[\"Year range\"]][[\"Year\", \"Gender guess\",\"Title\"]]\n",
    "df_years = df_years.rename(columns={\"Title\": \"Count\"})\n",
    "pd.to_numeric(df_years[\"Year\"])\n",
    "df_years = df_years.sort_values(\"Year\")"
   ]
  },
  {
   "cell_type": "code",
   "execution_count": 10,
   "metadata": {},
   "outputs": [],
   "source": [
    "# Leave only male and female for simplicity\n",
    "df_years = df_years[-(df_years[\"Gender guess\"]==\"unknown\")]\n",
    "df_years = df_years[-(df_years[\"Gender guess\"]==\"mostly_male\")]\n",
    "df_years = df_years[-(df_years[\"Gender guess\"]==\"mostly_female\")]\n",
    "df_years = df_years[-(df_years[\"Gender guess\"]==\"andy\")]"
   ]
  },
  {
   "cell_type": "markdown",
   "metadata": {},
   "source": [
    "For each year individually, we will now count the citations by gender."
   ]
  },
  {
   "cell_type": "code",
   "execution_count": 11,
   "metadata": {},
   "outputs": [
    {
     "data": {
      "text/html": [
       "<div>\n",
       "<style scoped>\n",
       "    .dataframe tbody tr th:only-of-type {\n",
       "        vertical-align: middle;\n",
       "    }\n",
       "\n",
       "    .dataframe tbody tr th {\n",
       "        vertical-align: top;\n",
       "    }\n",
       "\n",
       "    .dataframe thead th {\n",
       "        text-align: right;\n",
       "    }\n",
       "</style>\n",
       "<table border=\"1\" class=\"dataframe\">\n",
       "  <thead>\n",
       "    <tr style=\"text-align: right;\">\n",
       "      <th></th>\n",
       "      <th>Year</th>\n",
       "      <th>Gender guess</th>\n",
       "      <th>Count</th>\n",
       "    </tr>\n",
       "  </thead>\n",
       "  <tbody>\n",
       "    <tr>\n",
       "      <th>0</th>\n",
       "      <td>1950</td>\n",
       "      <td>female</td>\n",
       "      <td>8</td>\n",
       "    </tr>\n",
       "    <tr>\n",
       "      <th>1</th>\n",
       "      <td>1950</td>\n",
       "      <td>male</td>\n",
       "      <td>226</td>\n",
       "    </tr>\n",
       "    <tr>\n",
       "      <th>2</th>\n",
       "      <td>1951</td>\n",
       "      <td>female</td>\n",
       "      <td>8</td>\n",
       "    </tr>\n",
       "    <tr>\n",
       "      <th>3</th>\n",
       "      <td>1951</td>\n",
       "      <td>male</td>\n",
       "      <td>213</td>\n",
       "    </tr>\n",
       "    <tr>\n",
       "      <th>4</th>\n",
       "      <td>1952</td>\n",
       "      <td>female</td>\n",
       "      <td>10</td>\n",
       "    </tr>\n",
       "  </tbody>\n",
       "</table>\n",
       "</div>"
      ],
      "text/plain": [
       "   Year Gender guess  Count\n",
       "0  1950       female      8\n",
       "1  1950         male    226\n",
       "2  1951       female      8\n",
       "3  1951         male    213\n",
       "4  1952       female     10"
      ]
     },
     "execution_count": 11,
     "metadata": {},
     "output_type": "execute_result"
    }
   ],
   "source": [
    "# Group by year and gender guess, and count the references\n",
    "df_years = df_years.groupby([\"Year\", \"Gender guess\"]).count().reset_index()\n",
    "df_years = df_years.sort_values([\"Year\",\"Gender guess\"]).reset_index(drop=True)\n",
    "df_years.head()"
   ]
  },
  {
   "cell_type": "markdown",
   "metadata": {},
   "source": [
    "Next, we will plot how the number of citations by gender changes with the publication year of the referenced book or journal article. We can see that the majority of cited works are, roughly, from between 1995 and 2015. There are close to no publications by female authors from before 1970. After 1970, ever more publications by female authors are being cited."
   ]
  },
  {
   "cell_type": "code",
   "execution_count": 53,
   "metadata": {},
   "outputs": [
    {
     "data": {
      "application/vnd.plotly.v1+json": {
       "config": {
        "plotlyServerURL": "https://plot.ly"
       },
       "data": [
        {
         "alignmentgroup": "True",
         "hovertemplate": "Gender guess=female<br>Year=%{x}<br>Count=%{y}<extra></extra>",
         "legendgroup": "female",
         "marker": {
          "color": "#1F77B4",
          "pattern": {
           "shape": ""
          }
         },
         "name": "female",
         "offsetgroup": "female",
         "orientation": "v",
         "showlegend": true,
         "textposition": "auto",
         "type": "bar",
         "x": [
          "1950",
          "1951",
          "1952",
          "1953",
          "1954",
          "1955",
          "1956",
          "1957",
          "1958",
          "1959",
          "1960",
          "1961",
          "1962",
          "1963",
          "1964",
          "1965",
          "1966",
          "1967",
          "1968",
          "1969",
          "1970",
          "1971",
          "1972",
          "1973",
          "1974",
          "1975",
          "1976",
          "1977",
          "1978",
          "1979",
          "1980",
          "1981",
          "1982",
          "1983",
          "1984",
          "1985",
          "1986",
          "1987",
          "1988",
          "1989",
          "1990",
          "1991",
          "1992",
          "1993",
          "1994",
          "1995",
          "1996",
          "1997",
          "1998",
          "1999",
          "2000",
          "2001",
          "2002",
          "2003",
          "2004",
          "2005",
          "2006",
          "2007",
          "2008",
          "2009",
          "2010",
          "2011",
          "2012",
          "2013",
          "2014",
          "2015",
          "2016",
          "2017",
          "2018",
          "2019",
          "2020",
          "2021"
         ],
         "xaxis": "x",
         "y": [
          8,
          8,
          10,
          17,
          4,
          11,
          8,
          17,
          50,
          11,
          10,
          21,
          9,
          33,
          15,
          25,
          16,
          39,
          12,
          35,
          54,
          41,
          69,
          51,
          69,
          66,
          85,
          91,
          148,
          115,
          117,
          171,
          134,
          210,
          175,
          180,
          243,
          271,
          253,
          369,
          438,
          358,
          312,
          509,
          387,
          444,
          514,
          463,
          531,
          634,
          659,
          533,
          639,
          656,
          577,
          694,
          778,
          747,
          773,
          802,
          777,
          854,
          861,
          916,
          748,
          688,
          774,
          652,
          536,
          346,
          203,
          47
         ],
         "yaxis": "y"
        },
        {
         "alignmentgroup": "True",
         "hovertemplate": "Gender guess=male<br>Year=%{x}<br>Count=%{y}<extra></extra>",
         "legendgroup": "male",
         "marker": {
          "color": "#FF7F0E",
          "pattern": {
           "shape": ""
          }
         },
         "name": "male",
         "offsetgroup": "male",
         "orientation": "v",
         "showlegend": true,
         "textposition": "auto",
         "type": "bar",
         "x": [
          "1950",
          "1951",
          "1952",
          "1953",
          "1954",
          "1955",
          "1956",
          "1957",
          "1958",
          "1959",
          "1960",
          "1961",
          "1962",
          "1963",
          "1964",
          "1965",
          "1966",
          "1967",
          "1968",
          "1969",
          "1970",
          "1971",
          "1972",
          "1973",
          "1974",
          "1975",
          "1976",
          "1977",
          "1978",
          "1979",
          "1980",
          "1981",
          "1982",
          "1983",
          "1984",
          "1985",
          "1986",
          "1987",
          "1988",
          "1989",
          "1990",
          "1991",
          "1992",
          "1993",
          "1994",
          "1995",
          "1996",
          "1997",
          "1998",
          "1999",
          "2000",
          "2001",
          "2002",
          "2003",
          "2004",
          "2005",
          "2006",
          "2007",
          "2008",
          "2009",
          "2010",
          "2011",
          "2012",
          "2013",
          "2014",
          "2015",
          "2016",
          "2017",
          "2018",
          "2019",
          "2020",
          "2021"
         ],
         "xaxis": "x",
         "y": [
          226,
          213,
          237,
          251,
          209,
          257,
          310,
          289,
          340,
          296,
          351,
          329,
          451,
          431,
          337,
          517,
          541,
          668,
          587,
          607,
          676,
          675,
          646,
          821,
          811,
          931,
          798,
          887,
          937,
          1049,
          1210,
          1230,
          1265,
          1281,
          1377,
          1243,
          1649,
          1609,
          1555,
          1784,
          1835,
          1800,
          1919,
          1940,
          1985,
          2195,
          2321,
          2269,
          2585,
          2599,
          2820,
          2749,
          2849,
          2952,
          2924,
          2971,
          2899,
          3101,
          2940,
          3077,
          2750,
          3163,
          2754,
          3112,
          2772,
          2281,
          2193,
          1978,
          1529,
          926,
          453,
          86
         ],
         "yaxis": "y"
        }
       ],
       "layout": {
        "barmode": "relative",
        "legend": {
         "title": {
          "text": "Gender guess"
         },
         "tracegroupgap": 0
        },
        "template": {
         "data": {
          "scatter": [
           {
            "type": "scatter"
           }
          ]
         }
        },
        "title": {
         "text": "Proportion of citations in different publication years (1950 - present)"
        },
        "xaxis": {
         "anchor": "y",
         "domain": [
          0,
          1
         ],
         "title": {
          "text": "Year"
         }
        },
        "yaxis": {
         "anchor": "x",
         "domain": [
          0,
          1
         ],
         "title": {
          "text": "Count"
         }
        }
       }
      },
      "text/html": [
       "<div>                            <div id=\"68891893-b6a6-4315-b5c3-13e3ef410492\" class=\"plotly-graph-div\" style=\"height:525px; width:100%;\"></div>            <script type=\"text/javascript\">                require([\"plotly\"], function(Plotly) {                    window.PLOTLYENV=window.PLOTLYENV || {};                                    if (document.getElementById(\"68891893-b6a6-4315-b5c3-13e3ef410492\")) {                    Plotly.newPlot(                        \"68891893-b6a6-4315-b5c3-13e3ef410492\",                        [{\"alignmentgroup\":\"True\",\"hovertemplate\":\"Gender guess=female<br>Year=%{x}<br>Count=%{y}<extra></extra>\",\"legendgroup\":\"female\",\"marker\":{\"color\":\"#1F77B4\",\"pattern\":{\"shape\":\"\"}},\"name\":\"female\",\"offsetgroup\":\"female\",\"orientation\":\"v\",\"showlegend\":true,\"textposition\":\"auto\",\"type\":\"bar\",\"x\":[\"1950\",\"1951\",\"1952\",\"1953\",\"1954\",\"1955\",\"1956\",\"1957\",\"1958\",\"1959\",\"1960\",\"1961\",\"1962\",\"1963\",\"1964\",\"1965\",\"1966\",\"1967\",\"1968\",\"1969\",\"1970\",\"1971\",\"1972\",\"1973\",\"1974\",\"1975\",\"1976\",\"1977\",\"1978\",\"1979\",\"1980\",\"1981\",\"1982\",\"1983\",\"1984\",\"1985\",\"1986\",\"1987\",\"1988\",\"1989\",\"1990\",\"1991\",\"1992\",\"1993\",\"1994\",\"1995\",\"1996\",\"1997\",\"1998\",\"1999\",\"2000\",\"2001\",\"2002\",\"2003\",\"2004\",\"2005\",\"2006\",\"2007\",\"2008\",\"2009\",\"2010\",\"2011\",\"2012\",\"2013\",\"2014\",\"2015\",\"2016\",\"2017\",\"2018\",\"2019\",\"2020\",\"2021\"],\"xaxis\":\"x\",\"y\":[8,8,10,17,4,11,8,17,50,11,10,21,9,33,15,25,16,39,12,35,54,41,69,51,69,66,85,91,148,115,117,171,134,210,175,180,243,271,253,369,438,358,312,509,387,444,514,463,531,634,659,533,639,656,577,694,778,747,773,802,777,854,861,916,748,688,774,652,536,346,203,47],\"yaxis\":\"y\"},{\"alignmentgroup\":\"True\",\"hovertemplate\":\"Gender guess=male<br>Year=%{x}<br>Count=%{y}<extra></extra>\",\"legendgroup\":\"male\",\"marker\":{\"color\":\"#FF7F0E\",\"pattern\":{\"shape\":\"\"}},\"name\":\"male\",\"offsetgroup\":\"male\",\"orientation\":\"v\",\"showlegend\":true,\"textposition\":\"auto\",\"type\":\"bar\",\"x\":[\"1950\",\"1951\",\"1952\",\"1953\",\"1954\",\"1955\",\"1956\",\"1957\",\"1958\",\"1959\",\"1960\",\"1961\",\"1962\",\"1963\",\"1964\",\"1965\",\"1966\",\"1967\",\"1968\",\"1969\",\"1970\",\"1971\",\"1972\",\"1973\",\"1974\",\"1975\",\"1976\",\"1977\",\"1978\",\"1979\",\"1980\",\"1981\",\"1982\",\"1983\",\"1984\",\"1985\",\"1986\",\"1987\",\"1988\",\"1989\",\"1990\",\"1991\",\"1992\",\"1993\",\"1994\",\"1995\",\"1996\",\"1997\",\"1998\",\"1999\",\"2000\",\"2001\",\"2002\",\"2003\",\"2004\",\"2005\",\"2006\",\"2007\",\"2008\",\"2009\",\"2010\",\"2011\",\"2012\",\"2013\",\"2014\",\"2015\",\"2016\",\"2017\",\"2018\",\"2019\",\"2020\",\"2021\"],\"xaxis\":\"x\",\"y\":[226,213,237,251,209,257,310,289,340,296,351,329,451,431,337,517,541,668,587,607,676,675,646,821,811,931,798,887,937,1049,1210,1230,1265,1281,1377,1243,1649,1609,1555,1784,1835,1800,1919,1940,1985,2195,2321,2269,2585,2599,2820,2749,2849,2952,2924,2971,2899,3101,2940,3077,2750,3163,2754,3112,2772,2281,2193,1978,1529,926,453,86],\"yaxis\":\"y\"}],                        {\"barmode\":\"relative\",\"legend\":{\"title\":{\"text\":\"Gender guess\"},\"tracegroupgap\":0},\"template\":{\"data\":{\"scatter\":[{\"type\":\"scatter\"}]}},\"title\":{\"text\":\"Proportion of citations in different publication years (1950 - present)\"},\"xaxis\":{\"anchor\":\"y\",\"domain\":[0.0,1.0],\"title\":{\"text\":\"Year\"}},\"yaxis\":{\"anchor\":\"x\",\"domain\":[0.0,1.0],\"title\":{\"text\":\"Count\"}}},                        {\"responsive\": true}                    ).then(function(){\n",
       "                            \n",
       "var gd = document.getElementById('68891893-b6a6-4315-b5c3-13e3ef410492');\n",
       "var x = new MutationObserver(function (mutations, observer) {{\n",
       "        var display = window.getComputedStyle(gd).display;\n",
       "        if (!display || display === 'none') {{\n",
       "            console.log([gd, 'removed!']);\n",
       "            Plotly.purge(gd);\n",
       "            observer.disconnect();\n",
       "        }}\n",
       "}});\n",
       "\n",
       "// Listen for the removal of the full notebook cells\n",
       "var notebookContainer = gd.closest('#notebook-container');\n",
       "if (notebookContainer) {{\n",
       "    x.observe(notebookContainer, {childList: true});\n",
       "}}\n",
       "\n",
       "// Listen for the clearing of the current output cell\n",
       "var outputEl = gd.closest('.output');\n",
       "if (outputEl) {{\n",
       "    x.observe(outputEl, {childList: true});\n",
       "}}\n",
       "\n",
       "                        })                };                });            </script>        </div>"
      ]
     },
     "metadata": {},
     "output_type": "display_data"
    }
   ],
   "source": [
    "# Plot the proportion over time\n",
    "fig = px.bar(df_years, \n",
    "             x=\"Year\", \n",
    "             y=\"Count\", \n",
    "             color = \"Gender guess\", \n",
    "             title=\"Proportion of citations in different publication years (1950 - present)\",\n",
    "             template=template)\n",
    "fig.show()\n"
   ]
  },
  {
   "cell_type": "markdown",
   "metadata": {},
   "source": [
    "Let us now plot the proportion of female citations throughout the years."
   ]
  },
  {
   "cell_type": "code",
   "execution_count": 13,
   "metadata": {},
   "outputs": [],
   "source": [
    "# Prepare data set with percentages of female-authored references per publication year\n",
    "yearly_counts_total = df_years.groupby(\"Year\").sum().reset_index()[[\"Year\", \"Count\"]]\n",
    "yearly_counts_female = df_years[df_years[\"Gender guess\"]==\"female\"]\n",
    "df_percentage = pd.merge(\n",
    "    yearly_counts_female,\n",
    "    yearly_counts_total,\n",
    "    how=\"inner\",\n",
    "    on=\"Year\",\n",
    "    left_on=None,\n",
    "    right_on=None,\n",
    "    left_index=False,\n",
    "    right_index=False,\n",
    "    sort=True,\n",
    "    suffixes=(\"_x\", \"_y\"),\n",
    "    copy=True,\n",
    "    indicator=False,\n",
    "    validate=None,\n",
    ")\n",
    "df_percentage[\"Female percentage\"] = df_percentage[\"Count_x\"]/df_percentage[\"Count_y\"]*100"
   ]
  },
  {
   "cell_type": "code",
   "execution_count": 82,
   "metadata": {},
   "outputs": [
    {
     "data": {
      "application/vnd.plotly.v1+json": {
       "config": {
        "plotlyServerURL": "https://plot.ly"
       },
       "data": [
        {
         "hovertemplate": "Publication year of cited work=%{x}<br>Percentage of female-authored works=%{y}<extra></extra>",
         "legendgroup": "",
         "line": {
          "color": "#1F77B4"
         },
         "marker": {
          "color": "#636efa",
          "symbol": "circle"
         },
         "mode": "lines",
         "name": "Year-by-year",
         "orientation": "v",
         "showlegend": true,
         "type": "scatter",
         "x": [
          "1950",
          "1951",
          "1952",
          "1953",
          "1954",
          "1955",
          "1956",
          "1957",
          "1958",
          "1959",
          "1960",
          "1961",
          "1962",
          "1963",
          "1964",
          "1965",
          "1966",
          "1967",
          "1968",
          "1969",
          "1970",
          "1971",
          "1972",
          "1973",
          "1974",
          "1975",
          "1976",
          "1977",
          "1978",
          "1979",
          "1980",
          "1981",
          "1982",
          "1983",
          "1984",
          "1985",
          "1986",
          "1987",
          "1988",
          "1989",
          "1990",
          "1991",
          "1992",
          "1993",
          "1994",
          "1995",
          "1996",
          "1997",
          "1998",
          "1999",
          "2000",
          "2001",
          "2002",
          "2003",
          "2004",
          "2005",
          "2006",
          "2007",
          "2008",
          "2009",
          "2010",
          "2011",
          "2012",
          "2013",
          "2014",
          "2015",
          "2016",
          "2017",
          "2018",
          "2019",
          "2020",
          "2021"
         ],
         "xaxis": "x",
         "y": [
          3.418803418803419,
          3.619909502262444,
          4.048582995951417,
          6.343283582089552,
          1.8779342723004695,
          4.104477611940299,
          2.515723270440252,
          5.555555555555555,
          12.82051282051282,
          3.5830618892508146,
          2.7700831024930745,
          6,
          1.956521739130435,
          7.112068965517242,
          4.261363636363636,
          4.612546125461255,
          2.872531418312388,
          5.516265912305516,
          2.003338898163606,
          5.451713395638629,
          7.397260273972603,
          5.726256983240224,
          9.65034965034965,
          5.848623853211009,
          7.840909090909092,
          6.619859578736209,
          9.626274065685164,
          9.304703476482617,
          13.640552995391705,
          9.879725085910653,
          8.816880180859082,
          12.205567451820128,
          9.578270192994996,
          14.084507042253522,
          11.275773195876289,
          12.649332396345747,
          12.84355179704017,
          14.414893617021276,
          13.993362831858407,
          17.138875986994893,
          19.2696876374835,
          16.589434661723818,
          13.984760197220977,
          20.78399346672111,
          16.315345699831365,
          16.82455475558924,
          18.130511463844798,
          16.947291361639824,
          17.041078305519896,
          19.610269099907207,
          18.942224777234838,
          16.24009750152346,
          18.319954128440365,
          18.181818181818183,
          16.48100542702085,
          18.93587994542974,
          21.158553168343758,
          19.41268191268191,
          20.81874495017506,
          20.675431812322763,
          22.0300538701446,
          21.259646502364948,
          23.817427385892113,
          22.740814299900695,
          21.25,
          23.172785449646348,
          26.08695652173913,
          24.79087452471483,
          25.956416464891042,
          27.20125786163522,
          30.945121951219512,
          35.338345864661655
         ],
         "yaxis": "y"
        },
        {
         "hovertemplate": "<b>Rolling mean trendline</b><br><br>Publication year of cited work=%{x}<br>Percentage of female-authored works=%{y} <b>(trend)</b><extra></extra>",
         "legendgroup": "",
         "line": {
          "color": "black"
         },
         "marker": {
          "color": "#636efa",
          "symbol": "circle"
         },
         "mode": "lines",
         "name": "5-year moving average",
         "showlegend": true,
         "type": "scatter",
         "x": [
          "1950",
          "1951",
          "1952",
          "1953",
          "1954",
          "1955",
          "1956",
          "1957",
          "1958",
          "1959",
          "1960",
          "1961",
          "1962",
          "1963",
          "1964",
          "1965",
          "1966",
          "1967",
          "1968",
          "1969",
          "1970",
          "1971",
          "1972",
          "1973",
          "1974",
          "1975",
          "1976",
          "1977",
          "1978",
          "1979",
          "1980",
          "1981",
          "1982",
          "1983",
          "1984",
          "1985",
          "1986",
          "1987",
          "1988",
          "1989",
          "1990",
          "1991",
          "1992",
          "1993",
          "1994",
          "1995",
          "1996",
          "1997",
          "1998",
          "1999",
          "2000",
          "2001",
          "2002",
          "2003",
          "2004",
          "2005",
          "2006",
          "2007",
          "2008",
          "2009",
          "2010",
          "2011",
          "2012",
          "2013",
          "2014",
          "2015",
          "2016",
          "2017",
          "2018",
          "2019",
          "2020",
          "2021"
         ],
         "xaxis": "x",
         "y": [
          null,
          null,
          null,
          null,
          3.8617027542814606,
          3.9988375929088362,
          3.7780003465443976,
          4.079394858465226,
          5.374840706149879,
          5.715866229539948,
          5.448987327650503,
          6.145842673562453,
          5.426035910277428,
          4.284347139278313,
          4.420007488700877,
          4.788500093294513,
          4.163006376956991,
          4.874955211592008,
          3.85320919812128,
          4.091279149976279,
          4.648221979678548,
          5.218967092664116,
          6.045783840272942,
          6.814840831282423,
          7.292679970336517,
          7.137199831289237,
          7.917203247778225,
          7.848074013004819,
          9.406459841440958,
          9.814223040441268,
          10.253627160865843,
          10.769485838092837,
          10.824199181395313,
          10.912989990767676,
          11.192199612760804,
          11.958690055858137,
          12.086286924902144,
          13.0536116097074,
          13.035382767628377,
          14.208003325852099,
          15.53207437407965,
          16.28125094701638,
          16.19522426305632,
          17.55335039002886,
          17.388644332596154,
          16.899617756217303,
          17.2078331166415,
          17.800339349525267,
          17.051756317285022,
          17.710740997300196,
          18.134275001629312,
          17.756192209165043,
          18.030724762525153,
          18.25887273778481,
          17.633020003207537,
          17.63175103684652,
          18.615442170210578,
          18.83398772705889,
          19.361373080730267,
          20.20025835779065,
          20.819093142733617,
          20.839311809537854,
          21.7202609041799,
          22.104674774125023,
          22.21958841166047,
          22.44813472756082,
          23.413596731435657,
          23.6082861592002,
          24.251406592198272,
          25.441658164525315,
          26.996125464839945,
          28.84640333342445
         ],
         "yaxis": "y"
        }
       ],
       "layout": {
        "legend": {
         "tracegroupgap": 0
        },
        "template": {
         "data": {
          "scatter": [
           {
            "type": "scatter"
           }
          ]
         }
        },
        "title": {
         "text": "Proportion of female authored-works being cited in SEP articles"
        },
        "xaxis": {
         "anchor": "y",
         "domain": [
          0,
          1
         ],
         "title": {
          "text": "Publication year of cited work"
         }
        },
        "yaxis": {
         "anchor": "x",
         "domain": [
          0,
          1
         ],
         "title": {
          "text": "Percentage of female-authored works"
         }
        }
       }
      },
      "text/html": [
       "<div>                            <div id=\"3b0df0a7-788e-4511-9321-28d32a51a276\" class=\"plotly-graph-div\" style=\"height:525px; width:100%;\"></div>            <script type=\"text/javascript\">                require([\"plotly\"], function(Plotly) {                    window.PLOTLYENV=window.PLOTLYENV || {};                                    if (document.getElementById(\"3b0df0a7-788e-4511-9321-28d32a51a276\")) {                    Plotly.newPlot(                        \"3b0df0a7-788e-4511-9321-28d32a51a276\",                        [{\"hovertemplate\":\"Publication year of cited work=%{x}<br>Percentage of female-authored works=%{y}<extra></extra>\",\"legendgroup\":\"\",\"line\":{\"color\":\"#1F77B4\"},\"marker\":{\"color\":\"#636efa\",\"symbol\":\"circle\"},\"mode\":\"lines\",\"name\":\"Year-by-year\",\"orientation\":\"v\",\"showlegend\":true,\"type\":\"scatter\",\"x\":[\"1950\",\"1951\",\"1952\",\"1953\",\"1954\",\"1955\",\"1956\",\"1957\",\"1958\",\"1959\",\"1960\",\"1961\",\"1962\",\"1963\",\"1964\",\"1965\",\"1966\",\"1967\",\"1968\",\"1969\",\"1970\",\"1971\",\"1972\",\"1973\",\"1974\",\"1975\",\"1976\",\"1977\",\"1978\",\"1979\",\"1980\",\"1981\",\"1982\",\"1983\",\"1984\",\"1985\",\"1986\",\"1987\",\"1988\",\"1989\",\"1990\",\"1991\",\"1992\",\"1993\",\"1994\",\"1995\",\"1996\",\"1997\",\"1998\",\"1999\",\"2000\",\"2001\",\"2002\",\"2003\",\"2004\",\"2005\",\"2006\",\"2007\",\"2008\",\"2009\",\"2010\",\"2011\",\"2012\",\"2013\",\"2014\",\"2015\",\"2016\",\"2017\",\"2018\",\"2019\",\"2020\",\"2021\"],\"xaxis\":\"x\",\"y\":[3.418803418803419,3.619909502262444,4.048582995951417,6.343283582089552,1.8779342723004695,4.104477611940299,2.515723270440252,5.555555555555555,12.82051282051282,3.5830618892508146,2.7700831024930745,6.0,1.956521739130435,7.112068965517242,4.261363636363636,4.612546125461255,2.872531418312388,5.516265912305516,2.003338898163606,5.451713395638629,7.397260273972603,5.726256983240224,9.65034965034965,5.848623853211009,7.840909090909092,6.619859578736209,9.626274065685164,9.304703476482617,13.640552995391705,9.879725085910653,8.816880180859082,12.205567451820128,9.578270192994996,14.084507042253522,11.275773195876289,12.649332396345747,12.84355179704017,14.414893617021276,13.993362831858407,17.138875986994893,19.2696876374835,16.589434661723818,13.984760197220977,20.78399346672111,16.315345699831365,16.82455475558924,18.130511463844798,16.947291361639824,17.041078305519896,19.610269099907207,18.942224777234838,16.24009750152346,18.319954128440365,18.181818181818183,16.48100542702085,18.93587994542974,21.158553168343758,19.41268191268191,20.81874495017506,20.675431812322763,22.0300538701446,21.259646502364948,23.817427385892113,22.740814299900695,21.25,23.172785449646348,26.08695652173913,24.79087452471483,25.956416464891042,27.20125786163522,30.945121951219512,35.338345864661655],\"yaxis\":\"y\"},{\"hovertemplate\":\"<b>Rolling mean trendline</b><br><br>Publication year of cited work=%{x}<br>Percentage of female-authored works=%{y} <b>(trend)</b><extra></extra>\",\"legendgroup\":\"\",\"line\":{\"color\":\"black\"},\"marker\":{\"color\":\"#636efa\",\"symbol\":\"circle\"},\"mode\":\"lines\",\"name\":\"5-year moving average\",\"showlegend\":true,\"type\":\"scatter\",\"x\":[\"1950\",\"1951\",\"1952\",\"1953\",\"1954\",\"1955\",\"1956\",\"1957\",\"1958\",\"1959\",\"1960\",\"1961\",\"1962\",\"1963\",\"1964\",\"1965\",\"1966\",\"1967\",\"1968\",\"1969\",\"1970\",\"1971\",\"1972\",\"1973\",\"1974\",\"1975\",\"1976\",\"1977\",\"1978\",\"1979\",\"1980\",\"1981\",\"1982\",\"1983\",\"1984\",\"1985\",\"1986\",\"1987\",\"1988\",\"1989\",\"1990\",\"1991\",\"1992\",\"1993\",\"1994\",\"1995\",\"1996\",\"1997\",\"1998\",\"1999\",\"2000\",\"2001\",\"2002\",\"2003\",\"2004\",\"2005\",\"2006\",\"2007\",\"2008\",\"2009\",\"2010\",\"2011\",\"2012\",\"2013\",\"2014\",\"2015\",\"2016\",\"2017\",\"2018\",\"2019\",\"2020\",\"2021\"],\"xaxis\":\"x\",\"y\":[null,null,null,null,3.8617027542814606,3.9988375929088362,3.7780003465443976,4.079394858465226,5.374840706149879,5.715866229539948,5.448987327650503,6.145842673562453,5.426035910277428,4.284347139278313,4.420007488700877,4.788500093294513,4.163006376956991,4.874955211592008,3.85320919812128,4.091279149976279,4.648221979678548,5.218967092664116,6.045783840272942,6.814840831282423,7.292679970336517,7.137199831289237,7.917203247778225,7.848074013004819,9.406459841440958,9.814223040441268,10.253627160865843,10.769485838092837,10.824199181395313,10.912989990767676,11.192199612760804,11.958690055858137,12.086286924902144,13.0536116097074,13.035382767628377,14.208003325852099,15.53207437407965,16.28125094701638,16.19522426305632,17.55335039002886,17.388644332596154,16.899617756217303,17.2078331166415,17.800339349525267,17.051756317285022,17.710740997300196,18.134275001629312,17.756192209165043,18.030724762525153,18.25887273778481,17.633020003207537,17.63175103684652,18.615442170210578,18.83398772705889,19.361373080730267,20.20025835779065,20.819093142733617,20.839311809537854,21.7202609041799,22.104674774125023,22.21958841166047,22.44813472756082,23.413596731435657,23.6082861592002,24.251406592198272,25.441658164525315,26.996125464839945,28.84640333342445],\"yaxis\":\"y\"}],                        {\"legend\":{\"tracegroupgap\":0},\"template\":{\"data\":{\"scatter\":[{\"type\":\"scatter\"}]}},\"title\":{\"text\":\"Proportion of female authored-works being cited in SEP articles\"},\"xaxis\":{\"anchor\":\"y\",\"domain\":[0.0,1.0],\"title\":{\"text\":\"Publication year of cited work\"}},\"yaxis\":{\"anchor\":\"x\",\"domain\":[0.0,1.0],\"title\":{\"text\":\"Percentage of female-authored works\"}}},                        {\"responsive\": true}                    ).then(function(){\n",
       "                            \n",
       "var gd = document.getElementById('3b0df0a7-788e-4511-9321-28d32a51a276');\n",
       "var x = new MutationObserver(function (mutations, observer) {{\n",
       "        var display = window.getComputedStyle(gd).display;\n",
       "        if (!display || display === 'none') {{\n",
       "            console.log([gd, 'removed!']);\n",
       "            Plotly.purge(gd);\n",
       "            observer.disconnect();\n",
       "        }}\n",
       "}});\n",
       "\n",
       "// Listen for the removal of the full notebook cells\n",
       "var notebookContainer = gd.closest('#notebook-container');\n",
       "if (notebookContainer) {{\n",
       "    x.observe(notebookContainer, {childList: true});\n",
       "}}\n",
       "\n",
       "// Listen for the clearing of the current output cell\n",
       "var outputEl = gd.closest('.output');\n",
       "if (outputEl) {{\n",
       "    x.observe(outputEl, {childList: true});\n",
       "}}\n",
       "\n",
       "                        })                };                });            </script>        </div>"
      ]
     },
     "metadata": {},
     "output_type": "display_data"
    }
   ],
   "source": [
    "# Plot\n",
    "fig = px.scatter(df_percentage, x=\"Year\",\n",
    "                 y=\"Female percentage\", \n",
    "                 title='Proportion of female authored-works being cited in SEP articles',\n",
    "                 labels={\"Year\": \"Publication year of cited work\", \n",
    "                         \"Female percentage\": \"Percentage of female-authored works\"},\n",
    "                 trendline =\"rolling\",\n",
    "                 trendline_options=dict(window=5),\n",
    "                 trendline_color_override=\"black\")\n",
    "fig.update_layout(template=template)\n",
    "fig.update_traces(mode = 'lines')\n",
    "fig['data'][0]['showlegend']=True\n",
    "fig['data'][0]['line']['color']=color_female\n",
    "fig['data'][0]['name']='Year-by-year'\n",
    "fig['data'][1]['showlegend']=True\n",
    "fig['data'][1]['name']='5-year moving average'\n",
    "fig.show()"
   ]
  },
  {
   "cell_type": "markdown",
   "metadata": {},
   "source": [
    "The blue line represents the actual percentage of female-authored works from the given publication year. The black line represents the 5-year moving average. As we can see, up to the publication year 1970 the proportion of female authored references is somewhere around 5%. After that, the 5-year moving average increases (with a few exceptions) from year to year, and in 2021 it reaches over 28%. \n",
    "\n",
    "In the medium-term future, we would ideally like to arrive at a state of the discipline where roughly half of the senior staff in philosophy, and hence the authors of influential philosophy articles, are women. As this analysis shows, we are still far from this. Nonetheless, this analysis also comes to the optimistic conclusion that female philosophers are gaining more influence on the field, and that the change we witness is a change in a positive direction. "
   ]
  },
  {
   "cell_type": "markdown",
   "metadata": {},
   "source": [
    "### Who are the most cited authors?"
   ]
  },
  {
   "cell_type": "code",
   "execution_count": 15,
   "metadata": {},
   "outputs": [
    {
     "name": "stdout",
     "output_type": "stream",
     "text": [
      "29362\n"
     ]
    }
   ],
   "source": [
    "# Creat a dataframe with the counts of citations of individual authors\n",
    "most_cited_df = df.groupby([\"First author\",\"Gender guess\"]).count().reset_index()\n",
    "most_cited_df = most_cited_df.sort_values(\"Title\", ascending=False)\n",
    "most_cited_df = most_cited_df[[\"First author\",\"Gender guess\",\"Title\"]]\n",
    "most_cited_df = most_cited_df.rename(columns={\"Title\": \"Count\"})\n",
    "\n",
    "print(len(most_cited_df))\n"
   ]
  },
  {
   "cell_type": "code",
   "execution_count": 16,
   "metadata": {},
   "outputs": [
    {
     "name": "stdout",
     "output_type": "stream",
     "text": [
      "170\n"
     ]
    }
   ],
   "source": [
    "# Reduce to those who have been cited more than 50 times to make it manageable manually\n",
    "most_cited_df = most_cited_df[most_cited_df[\"Count\"]>=75]\n",
    "print(len(most_cited_df))"
   ]
  },
  {
   "cell_type": "code",
   "execution_count": 17,
   "metadata": {},
   "outputs": [
    {
     "name": "stdout",
     "output_type": "stream",
     "text": [
      "Over 75 citations: \n",
      " Men: 143\n",
      " Women: 15\n",
      " Mostly male: 6\n",
      " Mostly female: 1\n",
      " Androgenous: 0\n",
      " Unknown: 5\n"
     ]
    }
   ],
   "source": [
    "count_male = len(most_cited_df[most_cited_df[\"Gender guess\"]==\"male\"])\n",
    "count_female = len(most_cited_df[most_cited_df[\"Gender guess\"]==\"female\"])\n",
    "count_mmale = len(most_cited_df[most_cited_df[\"Gender guess\"]==\"mostly_male\"])\n",
    "count_mfemale = len(most_cited_df[most_cited_df[\"Gender guess\"]==\"mostly_female\"])\n",
    "count_andy = len(most_cited_df[most_cited_df[\"Gender guess\"]==\"andy\"])\n",
    "count_unknown = len(most_cited_df[most_cited_df[\"Gender guess\"]==\"unknown\"])\n",
    "print(f\"Over 75 citations: \\n Men: {count_male}\"+\n",
    "      f\"\\n Women: {count_female}\"+\n",
    "      f\"\\n Mostly male: {count_mmale}\"+\n",
    "      f\"\\n Mostly female: {count_mfemale}\"+\n",
    "      f\"\\n Androgenous: {count_andy}\"+\n",
    "      f\"\\n Unknown: {count_unknown}\")"
   ]
  },
  {
   "cell_type": "markdown",
   "metadata": {},
   "source": [
    "A manual analysis of the 170 entries reveals that all \"unknown\", \"mostly_male\", and \"mostly_female\" entries seem to actually be male. Consequently, we change their gender guess value."
   ]
  },
  {
   "cell_type": "code",
   "execution_count": 18,
   "metadata": {},
   "outputs": [],
   "source": [
    "# Get the indices of all the \"unknown\", \"mostly_male\", and \"mostly_female\" entries\n",
    "unknown_index = most_cited_df.loc[most_cited_df[\"Gender guess\"]==\"unknown\"].index.values\n",
    "mmale_index = most_cited_df.loc[most_cited_df[\"Gender guess\"]==\"mostly_male\"].index.values\n",
    "mfemale_index = most_cited_df.loc[most_cited_df[\"Gender guess\"]==\"mostly_female\"].index.values\n",
    "\n",
    "# Concatenate the indices\n",
    "change_indices = np.concatenate([unknown_index, mmale_index, mfemale_index])\n",
    "\n",
    "# Change the indices to male\n",
    "for change_index in change_indices:\n",
    "    most_cited_df.at[change_index,\"Gender guess\"]=\"male\""
   ]
  },
  {
   "cell_type": "markdown",
   "metadata": {},
   "source": [
    "Now, let us look at the ten most cited men and women. To this end, we will create a dataframe which contains the names of the ten most cited men and women and their gender-specific ranking."
   ]
  },
  {
   "cell_type": "code",
   "execution_count": 147,
   "metadata": {},
   "outputs": [],
   "source": [
    "ten_male = most_cited_df[most_cited_df[\"Gender guess\"]==\"male\"].head(10)\n",
    "ten_male = ten_male.reset_index().reset_index()\n",
    "ten_male[\"Rank\"] = ten_male[\"level_0\"]+1\n",
    "ten_male.sort_values(\"Rank\", ascending=False)\n",
    "ten_male[\"Description\"] = \"<b>\"+ten_male[\"First author\"]+\"</b>\"+ten_male[\"Count\"].apply(lambda x: \" (\"+str(x)+\")\")\n",
    "ten_male = ten_male[[\"First author\", \"Gender guess\", \"Count\", \"Rank\",\"Description\"]]\n",
    "\n",
    "ten_female = most_cited_df[most_cited_df[\"Gender guess\"]==\"female\"].head(10)\n",
    "ten_female = ten_female.reset_index().reset_index()\n",
    "ten_female[\"Rank\"] = ten_female[\"level_0\"]+1\n",
    "ten_female.sort_values(\"Rank\", ascending=False)\n",
    "ten_female[\"Description\"] = \"<b>\"+ten_female[\"First author\"]+\"</b>\"+ten_female[\"Count\"].apply(lambda x: \" (\"+str(x)+\")\")\n",
    "ten_female = ten_female[[\"First author\", \"Gender guess\", \"Count\", \"Rank\", \"Description\"]]"
   ]
  },
  {
   "cell_type": "code",
   "execution_count": 150,
   "metadata": {},
   "outputs": [
    {
     "data": {
      "application/vnd.plotly.v1+json": {
       "config": {
        "plotlyServerURL": "https://plot.ly"
       },
       "data": [
        {
         "hovertemplate": [
          583,
          317,
          278,
          252,
          250,
          226,
          224,
          220,
          219,
          214
         ],
         "marker": {
          "color": "#FF7F0E"
         },
         "name": "Male philosophers",
         "orientation": "h",
         "showlegend": true,
         "text": [
          "<b>David Lewis</b> (583)",
          "<b>John Rawls</b> (317)",
          "<b>Bertrand Russell</b> (278)",
          "<b>David Chalmers</b> (252)",
          "<b>Jerry Fodor</b> (250)",
          "<b>John Searle</b> (226)",
          "<b>Hilary Putnam</b> (224)",
          "<b>David Armstrong</b> (220)",
          "<b>Kit Fine</b> (219)",
          "<b>Timothy Williamson</b> (214)"
         ],
         "type": "bar",
         "x": [
          583,
          317,
          278,
          252,
          250,
          226,
          224,
          220,
          219,
          214
         ],
         "xaxis": "x",
         "y": [
          1,
          2,
          3,
          4,
          5,
          6,
          7,
          8,
          9,
          10
         ],
         "yaxis": "y"
        },
        {
         "hovertemplate": [
          583,
          317,
          278,
          252,
          250,
          226,
          224,
          220,
          219,
          214
         ],
         "marker": {
          "color": "#1F77B4"
         },
         "name": "Female philosophers",
         "orientation": "h",
         "showlegend": true,
         "text": [
          "<b>Martha Nussbaum</b> (223)",
          "<b>Christine Korsgaard</b> (123)",
          "<b>Julia Annas</b> (112)",
          "<b>Nancy Cartwright</b> (101)",
          "<b>Elizabeth Anderson</b> (98)",
          "<b>Eleonore Stump</b> (92)",
          "<b>Sally Haslanger</b> (91)",
          "<b>Susan Wolf</b> (84)",
          "<b>Linda Zagzebski</b> (81)",
          "<b>Iris Young</b> (80)"
         ],
         "type": "bar",
         "x": [
          223,
          123,
          112,
          101,
          98,
          92,
          91,
          84,
          81,
          80
         ],
         "xaxis": "x2",
         "y": [
          1,
          2,
          3,
          4,
          5,
          6,
          7,
          8,
          9,
          10
         ],
         "yaxis": "y2"
        }
       ],
       "layout": {
        "hoverlabel": {
         "bgcolor": "white",
         "font": {
          "family": "Lato, sans-serif",
          "size": 13
         }
        },
        "legend": {
         "orientation": "h",
         "x": 0.5,
         "xanchor": "center",
         "y": 1,
         "yanchor": "bottom"
        },
        "margin": {
         "b": 50,
         "l": 80,
         "r": 40,
         "t": 80
        },
        "template": {
         "data": {
          "scatter": [
           {
            "type": "scatter"
           }
          ]
         }
        },
        "title": {
         "text": "The ten most cited men and women on the SEP"
        },
        "xaxis": {
         "anchor": "y",
         "domain": [
          0,
          0.5
         ],
         "dtick": 100,
         "range": [
          600,
          0
         ],
         "showgrid": true,
         "title": {
          "text": "Number of citations"
         }
        },
        "xaxis2": {
         "anchor": "y2",
         "domain": [
          0.5,
          1
         ],
         "dtick": 100,
         "range": [
          0,
          600
         ],
         "showgrid": true
        },
        "yaxis": {
         "anchor": "x",
         "autorange": "reversed",
         "categoryorder": "total descending",
         "domain": [
          0,
          1
         ],
         "dtick": 1,
         "showgrid": false,
         "showline": false,
         "ticksuffix": " ",
         "title": {
          "text": "Ranking"
         }
        },
        "yaxis2": {
         "anchor": "x2",
         "categoryorder": "total descending",
         "domain": [
          0,
          1
         ],
         "dtick": 1,
         "matches": "y",
         "showgrid": false,
         "showline": false,
         "showticklabels": false,
         "ticksuffix": " "
        }
       }
      },
      "text/html": [
       "<div>                            <div id=\"c6873bfb-fda7-46dd-b7a4-d69074cb6045\" class=\"plotly-graph-div\" style=\"height:525px; width:100%;\"></div>            <script type=\"text/javascript\">                require([\"plotly\"], function(Plotly) {                    window.PLOTLYENV=window.PLOTLYENV || {};                                    if (document.getElementById(\"c6873bfb-fda7-46dd-b7a4-d69074cb6045\")) {                    Plotly.newPlot(                        \"c6873bfb-fda7-46dd-b7a4-d69074cb6045\",                        [{\"hovertemplate\":[583.0,317.0,278.0,252.0,250.0,226.0,224.0,220.0,219.0,214.0],\"marker\":{\"color\":\"#FF7F0E\"},\"name\":\"Male philosophers\",\"orientation\":\"h\",\"showlegend\":true,\"text\":[\"<b>David Lewis</b> (583)\",\"<b>John Rawls</b> (317)\",\"<b>Bertrand Russell</b> (278)\",\"<b>David Chalmers</b> (252)\",\"<b>Jerry Fodor</b> (250)\",\"<b>John Searle</b> (226)\",\"<b>Hilary Putnam</b> (224)\",\"<b>David Armstrong</b> (220)\",\"<b>Kit Fine</b> (219)\",\"<b>Timothy Williamson</b> (214)\"],\"type\":\"bar\",\"x\":[583,317,278,252,250,226,224,220,219,214],\"xaxis\":\"x\",\"y\":[1,2,3,4,5,6,7,8,9,10],\"yaxis\":\"y\"},{\"hovertemplate\":[583.0,317.0,278.0,252.0,250.0,226.0,224.0,220.0,219.0,214.0],\"marker\":{\"color\":\"#1F77B4\"},\"name\":\"Female philosophers\",\"orientation\":\"h\",\"showlegend\":true,\"text\":[\"<b>Martha Nussbaum</b> (223)\",\"<b>Christine Korsgaard</b> (123)\",\"<b>Julia Annas</b> (112)\",\"<b>Nancy Cartwright</b> (101)\",\"<b>Elizabeth Anderson</b> (98)\",\"<b>Eleonore Stump</b> (92)\",\"<b>Sally Haslanger</b> (91)\",\"<b>Susan Wolf</b> (84)\",\"<b>Linda Zagzebski</b> (81)\",\"<b>Iris Young</b> (80)\"],\"type\":\"bar\",\"x\":[223,123,112,101,98,92,91,84,81,80],\"xaxis\":\"x2\",\"y\":[1,2,3,4,5,6,7,8,9,10],\"yaxis\":\"y2\"}],                        {\"hoverlabel\":{\"bgcolor\":\"white\",\"font\":{\"family\":\"Lato, sans-serif\",\"size\":13}},\"legend\":{\"orientation\":\"h\",\"x\":0.5,\"xanchor\":\"center\",\"y\":1,\"yanchor\":\"bottom\"},\"margin\":{\"b\":50,\"l\":80,\"r\":40,\"t\":80},\"template\":{\"data\":{\"scatter\":[{\"type\":\"scatter\"}]}},\"title\":{\"text\":\"The ten most cited men and women on the SEP\"},\"xaxis\":{\"anchor\":\"y\",\"domain\":[0.0,0.5],\"dtick\":100,\"range\":[600,0],\"showgrid\":true,\"title\":{\"text\":\"Number of citations\"}},\"xaxis2\":{\"anchor\":\"y2\",\"domain\":[0.5,1.0],\"dtick\":100,\"range\":[0,600],\"showgrid\":true},\"yaxis\":{\"anchor\":\"x\",\"autorange\":\"reversed\",\"categoryorder\":\"total descending\",\"domain\":[0.0,1.0],\"dtick\":1,\"showgrid\":false,\"showline\":false,\"ticksuffix\":\" \",\"title\":{\"text\":\"Ranking\"}},\"yaxis2\":{\"anchor\":\"x2\",\"categoryorder\":\"total descending\",\"domain\":[0.0,1.0],\"dtick\":1,\"matches\":\"y\",\"showgrid\":false,\"showline\":false,\"showticklabels\":false,\"ticksuffix\":\" \"}},                        {\"responsive\": true}                    ).then(function(){\n",
       "                            \n",
       "var gd = document.getElementById('c6873bfb-fda7-46dd-b7a4-d69074cb6045');\n",
       "var x = new MutationObserver(function (mutations, observer) {{\n",
       "        var display = window.getComputedStyle(gd).display;\n",
       "        if (!display || display === 'none') {{\n",
       "            console.log([gd, 'removed!']);\n",
       "            Plotly.purge(gd);\n",
       "            observer.disconnect();\n",
       "        }}\n",
       "}});\n",
       "\n",
       "// Listen for the removal of the full notebook cells\n",
       "var notebookContainer = gd.closest('#notebook-container');\n",
       "if (notebookContainer) {{\n",
       "    x.observe(notebookContainer, {childList: true});\n",
       "}}\n",
       "\n",
       "// Listen for the clearing of the current output cell\n",
       "var outputEl = gd.closest('.output');\n",
       "if (outputEl) {{\n",
       "    x.observe(outputEl, {childList: true});\n",
       "}}\n",
       "\n",
       "                        })                };                });            </script>        </div>"
      ]
     },
     "metadata": {},
     "output_type": "display_data"
    }
   ],
   "source": [
    "from plotly.subplots import make_subplots\n",
    "fig = make_subplots(rows=1, cols=2, specs=[[{}, {}]], shared_yaxes=True, horizontal_spacing=0)\n",
    "\n",
    "# bar plot for tv shows\n",
    "fig.append_trace(Bar(x=ten_male[\"Count\"], \n",
    "                     y=ten_male[\"Rank\"],\n",
    "                     orientation='h', \n",
    "                     showlegend=True, \n",
    "                     text=ten_male[\"Description\"], \n",
    "                     name='Male philosophers',\n",
    "                     marker_color=color_male,\n",
    "                     hovertemplate=ten_male[\"Count\"]\n",
    "                     ), 1, 1)\n",
    "\n",
    "# bar plot for movies\n",
    "fig.append_trace(Bar(x=ten_female[\"Count\"], y=ten_female[\"Rank\"], \n",
    "                        orientation='h', showlegend=True,\n",
    "                        text=ten_female[\"Description\"],\n",
    "                        name='Female philosophers',\n",
    "                        marker_color=color_female,\n",
    "                        hovertemplate=ten_male[\"Count\"]), 1, 2)\n",
    "\n",
    "fig.update_xaxes(showgrid=True, dtick = 100, range=[600,0], row=1, col=1)\n",
    "fig.update_xaxes(showgrid=True, dtick = 100, range=[0,600], row=1, col=2)\n",
    "\n",
    "fig.update_yaxes(showgrid=False, categoryorder='total descending', \n",
    "                 ticksuffix=' ', dtick=1, showline=False)\n",
    "\n",
    "\n",
    "\n",
    "fig['layout']['yaxis']['autorange'] = \"reversed\"\n",
    "\n",
    "fig.update_layout(title='The ten most cited men and women on the SEP',\n",
    "                  margin=dict(t=80, b=50, l=80, r=40),\n",
    "                  xaxis_title=\"Number of citations\",\n",
    "                  yaxis_title=\"Ranking\",\n",
    "                  legend=dict(orientation=\"h\", yanchor=\"bottom\",\n",
    "                              y=1, xanchor=\"center\", x=0.5),\n",
    "                  hoverlabel=dict(bgcolor=\"white\", font_size=13, \n",
    "                                  font_family=\"Lato, sans-serif\"),\n",
    "                  template=template)"
   ]
  }
 ],
 "metadata": {
  "kernelspec": {
   "display_name": "Python 3",
   "language": "python",
   "name": "python3"
  },
  "language_info": {
   "codemirror_mode": {
    "name": "ipython",
    "version": 3
   },
   "file_extension": ".py",
   "mimetype": "text/x-python",
   "name": "python",
   "nbconvert_exporter": "python",
   "pygments_lexer": "ipython3",
   "version": "3.8.5"
  }
 },
 "nbformat": 4,
 "nbformat_minor": 4
}
